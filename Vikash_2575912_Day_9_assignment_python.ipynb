{
 "cells": [
  {
   "cell_type": "markdown",
   "id": "126d00ba",
   "metadata": {},
   "source": [
    "# 1.create a 3x3x3 matrix with random values ."
   ]
  },
  {
   "cell_type": "code",
   "execution_count": 1,
   "id": "3dfab9af",
   "metadata": {},
   "outputs": [
    {
     "name": "stdout",
     "output_type": "stream",
     "text": [
      "10 76 33 \n",
      "12 57 91 \n",
      "80 97 27 \n",
      "\n",
      "14 4 22 \n",
      "27 8 24 \n",
      "77 92 10 \n",
      "\n",
      "91 59 28 \n",
      "78 47 40 \n",
      "10 24 14 \n",
      "\n"
     ]
    }
   ],
   "source": [
    "import random\n",
    "\n",
    "matrix = [[[random.randint(1, 100) for _ in range(3)] for _ in range(3)] for _ in range(3)]\n",
    "\n",
    "for i in range(3):\n",
    "    for j in range(3):\n",
    "        for k in range(3):\n",
    "            print(matrix[i][j][k], end=' ')\n",
    "        print()\n",
    "    print()\n"
   ]
  },
  {
   "cell_type": "markdown",
   "id": "e0abef71",
   "metadata": {},
   "source": [
    "# 2.Create a 5x5 matrix with values 1,2,3,4 just below the diagonal"
   ]
  },
  {
   "cell_type": "code",
   "execution_count": 2,
   "id": "8919bf34",
   "metadata": {},
   "outputs": [
    {
     "name": "stdout",
     "output_type": "stream",
     "text": [
      "[0, 0, 0, 0, 0]\n",
      "[2, 0, 0, 0, 0]\n",
      "[0, 3, 0, 0, 0]\n",
      "[0, 0, 4, 0, 0]\n",
      "[0, 0, 0, 5, 0]\n"
     ]
    }
   ],
   "source": [
    "matrix = [[0 for _ in range(5)] for _ in range(5)]\n",
    "\n",
    "for i in range(5):\n",
    "    for j in range(5):\n",
    "        if i == j + 1:\n",
    "            matrix[i][j] = i + 1\n",
    "\n",
    "for row in matrix:\n",
    "    print(row)\n"
   ]
  },
  {
   "cell_type": "markdown",
   "id": "6e1c65b7",
   "metadata": {},
   "source": [
    "# 3.create 8x8 matrix and fill it with a checkboard pattern."
   ]
  },
  {
   "cell_type": "code",
   "execution_count": 3,
   "id": "bad8bab7",
   "metadata": {},
   "outputs": [
    {
     "name": "stdout",
     "output_type": "stream",
     "text": [
      "0 1 0 1 0 1 0 1\n",
      "1 0 1 0 1 0 1 0\n",
      "0 1 0 1 0 1 0 1\n",
      "1 0 1 0 1 0 1 0\n",
      "0 1 0 1 0 1 0 1\n",
      "1 0 1 0 1 0 1 0\n",
      "0 1 0 1 0 1 0 1\n",
      "1 0 1 0 1 0 1 0\n"
     ]
    }
   ],
   "source": [
    "matrix = [[(i + j) % 2 for i in range(8)] for j in range(8)]\n",
    "\n",
    "for row in matrix:\n",
    "    print(\" \".join(map(str, row)))\n"
   ]
  },
  {
   "cell_type": "markdown",
   "id": "c48d29df",
   "metadata": {},
   "source": [
    "# 4.Normalize a 5x5 random matrix"
   ]
  },
  {
   "cell_type": "code",
   "execution_count": 4,
   "id": "b8e00a52",
   "metadata": {},
   "outputs": [
    {
     "name": "stdout",
     "output_type": "stream",
     "text": [
      "Original Matrix:\n",
      "[[0.20513413 0.25839319 0.8878114  0.19948308 0.17780394]\n",
      " [0.77246147 0.10713022 0.37349579 0.42979506 0.8999113 ]\n",
      " [0.19260109 0.07296897 0.4590406  0.23094683 0.8478238 ]\n",
      " [0.84878227 0.7792733  0.47458066 0.24696729 0.43644031]\n",
      " [0.02251064 0.81152816 0.82172649 0.33687466 0.85458363]]\n",
      "\n",
      "Normalized Matrix:\n",
      "[[0.20814149 0.26884245 0.98620937 0.20170083 0.17699246]\n",
      " [0.85474158 0.09644349 0.40002836 0.46419434 1.        ]\n",
      " [0.19385722 0.05750888 0.49752636 0.23756101 0.9406343 ]\n",
      " [0.9417267  0.86250523 0.51523784 0.25582002 0.47176813]\n",
      " [0.         0.89926707 0.91089041 0.35829015 0.94833868]]\n"
     ]
    }
   ],
   "source": [
    "import numpy as np\n",
    "\n",
    "matrix = np.random.rand(5, 5)\n",
    "normalized_matrix = (matrix - matrix.min()) / (matrix.max() - matrix.min())\n",
    "\n",
    "print(\"Original Matrix:\")\n",
    "print(matrix)\n",
    "\n",
    "print(\"\\nNormalized Matrix:\")\n",
    "print(normalized_matrix)\n"
   ]
  },
  {
   "cell_type": "markdown",
   "id": "32220d8e",
   "metadata": {},
   "source": [
    "# 5.How to find common values between two arrays?"
   ]
  },
  {
   "cell_type": "code",
   "execution_count": 5,
   "id": "c5a4f774",
   "metadata": {},
   "outputs": [
    {
     "name": "stdout",
     "output_type": "stream",
     "text": [
      "Common values: [3, 4, 5]\n"
     ]
    }
   ],
   "source": [
    "array1 = [1, 2, 3, 4, 5]\n",
    "array2 = [3, 4, 5, 6, 7]\n",
    "\n",
    "common_values = list(set(array1) & set(array2))\n",
    "\n",
    "print(\"Common values:\", common_values)\n"
   ]
  },
  {
   "cell_type": "markdown",
   "id": "8154684f",
   "metadata": {},
   "source": [
    "# 6. How to get the dates of ywaturday ,today and tomorrow?"
   ]
  },
  {
   "cell_type": "code",
   "execution_count": 6,
   "id": "4d3621f5",
   "metadata": {},
   "outputs": [
    {
     "name": "stdout",
     "output_type": "stream",
     "text": [
      "Yesterday: 2023-09-20\n",
      "Today: 2023-09-21\n",
      "Tomorrow: 2023-09-22\n"
     ]
    }
   ],
   "source": [
    "from datetime import datetime, timedelta\n",
    "\n",
    "today = datetime.now()\n",
    "yesterday = today - timedelta(days=1)\n",
    "tomorrow = today + timedelta(days=1)\n",
    "\n",
    "print(\"Yesterday:\", yesterday.date())\n",
    "print(\"Today:\", today.date())\n",
    "print(\"Tomorrow:\", tomorrow.date())\n"
   ]
  },
  {
   "cell_type": "markdown",
   "id": "6847d70b",
   "metadata": {},
   "source": [
    "# 7. Consider tow random array A and B , check if they are equal?"
   ]
  },
  {
   "cell_type": "code",
   "execution_count": 7,
   "id": "e462b9bb",
   "metadata": {},
   "outputs": [
    {
     "name": "stdout",
     "output_type": "stream",
     "text": [
      "Arrays A and B are equal: False\n"
     ]
    }
   ],
   "source": [
    "import numpy as np\n",
    "\n",
    "A = np.random.rand(5)\n",
    "B = np.random.rand(5)\n",
    "\n",
    "are_equal = np.array_equal(A, B)\n",
    "\n",
    "print(\"Arrays A and B are equal:\", are_equal)\n"
   ]
  },
  {
   "cell_type": "markdown",
   "id": "b8ab4005",
   "metadata": {},
   "source": [
    "# 8.Create random vector of size 10 and replace the maximum value by 0"
   ]
  },
  {
   "cell_type": "code",
   "execution_count": 8,
   "id": "adde189d",
   "metadata": {},
   "outputs": [
    {
     "name": "stdout",
     "output_type": "stream",
     "text": [
      "[0.55402839 0.         0.0311005  0.49717502 0.52871894 0.92589161\n",
      " 0.73536892 0.09696639 0.2435251  0.07878238]\n"
     ]
    }
   ],
   "source": [
    "import numpy as np\n",
    "\n",
    "vector = np.random.rand(10)\n",
    "vector[np.argmax(vector)] = 0\n",
    "\n",
    "print(vector)\n"
   ]
  },
  {
   "cell_type": "markdown",
   "id": "7a44704e",
   "metadata": {},
   "source": [
    "# 9. How to print all the values of an array?"
   ]
  },
  {
   "cell_type": "code",
   "execution_count": 9,
   "id": "a75244b0",
   "metadata": {},
   "outputs": [
    {
     "name": "stdout",
     "output_type": "stream",
     "text": [
      "1\n",
      "2\n",
      "3\n",
      "4\n",
      "5\n"
     ]
    }
   ],
   "source": [
    "import numpy as np\n",
    "\n",
    "array = np.array([1, 2, 3, 4, 5])\n",
    "\n",
    "for value in array:\n",
    "    print(value)\n"
   ]
  },
  {
   "cell_type": "markdown",
   "id": "6bf83430",
   "metadata": {},
   "source": [
    "# 10. Subtract the mean of each row of a matrix."
   ]
  },
  {
   "cell_type": "code",
   "execution_count": 10,
   "id": "4730e234",
   "metadata": {},
   "outputs": [
    {
     "name": "stdout",
     "output_type": "stream",
     "text": [
      "[[-1.  0.  1.]\n",
      " [-1.  0.  1.]\n",
      " [-1.  0.  1.]]\n"
     ]
    }
   ],
   "source": [
    "import numpy as np\n",
    "\n",
    "matrix = np.array([[1, 2, 3], [4, 5, 6], [7, 8, 9]])\n",
    "\n",
    "result = matrix - matrix.mean(axis=1, keepdims=True)\n",
    "\n",
    "print(result)\n"
   ]
  },
  {
   "cell_type": "markdown",
   "id": "4c4f50f5",
   "metadata": {},
   "source": [
    "# 11.Consider a given vector, how to add 1 to each element indexed by a second vector (be careful with repeaded indices)?"
   ]
  },
  {
   "cell_type": "code",
   "execution_count": 11,
   "id": "98285167",
   "metadata": {},
   "outputs": [
    {
     "name": "stdout",
     "output_type": "stream",
     "text": [
      "[1 3 4 5 6]\n"
     ]
    }
   ],
   "source": [
    "import numpy as np\n",
    "\n",
    "vector = np.array([1, 2, 3, 4, 5])\n",
    "indices = np.array([1, 3, 1, 4, 2])\n",
    "\n",
    "vector[indices] += 1\n",
    "\n",
    "print(vector)\n"
   ]
  },
  {
   "cell_type": "markdown",
   "id": "eaf32e64",
   "metadata": {},
   "source": [
    "# 12.How to get the diagonal of a dot product?"
   ]
  },
  {
   "cell_type": "code",
   "execution_count": 12,
   "id": "c7b75dd5",
   "metadata": {},
   "outputs": [
    {
     "name": "stdout",
     "output_type": "stream",
     "text": [
      "[19 50]\n"
     ]
    }
   ],
   "source": [
    "import numpy as np\n",
    "\n",
    "matrix1 = np.array([[1, 2], [3, 4]])\n",
    "matrix2 = np.array([[5, 6], [7, 8]])\n",
    "\n",
    "result = np.diag(np.dot(matrix1, matrix2))\n",
    "\n",
    "print(result)\n"
   ]
  },
  {
   "cell_type": "markdown",
   "id": "ffa876c6",
   "metadata": {},
   "source": [
    "# 13.How to find the most frequent value in an array?"
   ]
  },
  {
   "cell_type": "code",
   "execution_count": 13,
   "id": "53b121c2",
   "metadata": {},
   "outputs": [
    {
     "name": "stdout",
     "output_type": "stream",
     "text": [
      "Most frequent value: 4\n"
     ]
    }
   ],
   "source": [
    "import numpy as np\n",
    "\n",
    "array = np.array([1, 2, 2, 3, 3, 3, 4, 4, 4, 4])\n",
    "\n",
    "most_frequent_value = np.bincount(array).argmax()\n",
    "\n",
    "print(\"Most frequent value:\", most_frequent_value)\n"
   ]
  },
  {
   "cell_type": "markdown",
   "id": "0e335996",
   "metadata": {},
   "source": [
    "# 14.How to get the n largest values of an array"
   ]
  },
  {
   "cell_type": "code",
   "execution_count": 14,
   "id": "11bf4bd0",
   "metadata": {},
   "outputs": [
    {
     "name": "stdout",
     "output_type": "stream",
     "text": [
      "N largest values: [7 8 9]\n"
     ]
    }
   ],
   "source": [
    "import numpy as np\n",
    "\n",
    "array = np.array([4, 2, 9, 7, 1, 6, 8, 5, 3])\n",
    "\n",
    "n_largest_values = np.partition(array, -3)[-3:]\n",
    "\n",
    "print(\"N largest values:\", n_largest_values)\n"
   ]
  },
  {
   "cell_type": "markdown",
   "id": "32c6d075",
   "metadata": {},
   "source": [
    "# 15.How to create a record array from a regular array?"
   ]
  },
  {
   "cell_type": "code",
   "execution_count": 15,
   "id": "da306f51",
   "metadata": {},
   "outputs": [
    {
     "name": "stdout",
     "output_type": "stream",
     "text": [
      "[('Alice', 25) ('Bob', 30) ('Charlie', 35)]\n"
     ]
    }
   ],
   "source": [
    "import numpy as np\n",
    "\n",
    "regular_array = np.array([(\"Alice\", 25), (\"Bob\", 30), (\"Charlie\", 35)], dtype=[(\"name\", \"U10\"), (\"age\", int)])\n",
    "record_array = np.rec.array(regular_array)\n",
    "\n",
    "print(record_array)\n"
   ]
  },
  {
   "cell_type": "markdown",
   "id": "3708724b",
   "metadata": {},
   "source": [
    "# 16.How to swap two rows of an array?"
   ]
  },
  {
   "cell_type": "code",
   "execution_count": 16,
   "id": "9e3145fb",
   "metadata": {},
   "outputs": [
    {
     "name": "stdout",
     "output_type": "stream",
     "text": [
      "[[4 5 6]\n",
      " [1 2 3]\n",
      " [7 8 9]]\n"
     ]
    }
   ],
   "source": [
    "import numpy as np\n",
    "\n",
    "array = np.array([[1, 2, 3],\n",
    "                  [4, 5, 6],\n",
    "                  [7, 8, 9]])\n",
    "\n",
    "array[[0, 1]] = array[[1, 0]]\n",
    "\n",
    "print(array)\n"
   ]
  },
  {
   "cell_type": "markdown",
   "id": "c138e0b7",
   "metadata": {},
   "source": [
    "# 17.Write python code to reshape to the next dimentsion of numpy array?\n",
    "\n",
    "x = np.array([[23,34,121],[23,22,67],[686,434,123]])"
   ]
  },
  {
   "cell_type": "code",
   "execution_count": 17,
   "id": "ccfa48b2",
   "metadata": {},
   "outputs": [
    {
     "name": "stdout",
     "output_type": "stream",
     "text": [
      "[[ 23]\n",
      " [ 34]\n",
      " [121]\n",
      " [ 23]\n",
      " [ 22]\n",
      " [ 67]\n",
      " [686]\n",
      " [434]\n",
      " [123]]\n"
     ]
    }
   ],
   "source": [
    "import numpy as np\n",
    "\n",
    "x = np.array([[23, 34, 121],\n",
    "              [23, 22, 67],\n",
    "              [686, 434, 123]])\n",
    "\n",
    "reshaped_array = x.reshape(-1, 1)\n",
    "\n",
    "print(reshaped_array)\n"
   ]
  },
  {
   "cell_type": "code",
   "execution_count": null,
   "id": "053255db",
   "metadata": {},
   "outputs": [],
   "source": []
  }
 ],
 "metadata": {
  "kernelspec": {
   "display_name": "Python 3 (ipykernel)",
   "language": "python",
   "name": "python3"
  },
  "language_info": {
   "codemirror_mode": {
    "name": "ipython",
    "version": 3
   },
   "file_extension": ".py",
   "mimetype": "text/x-python",
   "name": "python",
   "nbconvert_exporter": "python",
   "pygments_lexer": "ipython3",
   "version": "3.11.4"
  }
 },
 "nbformat": 4,
 "nbformat_minor": 5
}
