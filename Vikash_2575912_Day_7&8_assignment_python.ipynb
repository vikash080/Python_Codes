{
 "cells": [
  {
   "cell_type": "markdown",
   "id": "b9ae2837",
   "metadata": {},
   "source": [
    "# 1."
   ]
  },
  {
   "cell_type": "code",
   "execution_count": 1,
   "id": "9dfcfe1a",
   "metadata": {},
   "outputs": [
    {
     "name": "stdout",
     "output_type": "stream",
     "text": [
      "Enter the item to be searched: 20\n",
      "20 found at position 4.\n"
     ]
    }
   ],
   "source": [
    "input_list = [10, 25, 30, 15, 20, 5]\n",
    "found = False\n",
    "target_value = int(input(\"Enter the item to be searched: \"))\n",
    "\n",
    "for index, item in enumerate(input_list):\n",
    "    if item == target_value:\n",
    "        found = True\n",
    "        position = index\n",
    "        break\n",
    "\n",
    "if found:\n",
    "    print(f\"{target_value} found at position {position}.\")\n",
    "else:\n",
    "    print(f\"{target_value} not found in the list.\")\n"
   ]
  },
  {
   "cell_type": "markdown",
   "id": "d90de8e9",
   "metadata": {},
   "source": [
    "# 2."
   ]
  },
  {
   "cell_type": "code",
   "execution_count": 2,
   "id": "c7ad16fb",
   "metadata": {},
   "outputs": [
    {
     "name": "stdout",
     "output_type": "stream",
     "text": [
      "Enter the number of elements: 5\n",
      "Enter element 1: 23\n",
      "Enter element 2: 34\n",
      "Enter element 3: 45\n",
      "Enter element 4: 56\n",
      "Enter element 5: 67\n",
      "Enter the target element to search: 34\n",
      "34 found at position 1.\n"
     ]
    }
   ],
   "source": [
    "def binary_search(arr, target):\n",
    "    left = 0\n",
    "    right = len(arr) - 1\n",
    "\n",
    "    while left <= right:\n",
    "        mid = (left + right) // 2\n",
    "\n",
    "        if arr[mid] == target:\n",
    "            return mid\n",
    "        elif arr[mid] < target:\n",
    "            left = mid + 1\n",
    "        else:\n",
    "            right = mid - 1\n",
    "\n",
    "    return -1\n",
    "\n",
    "num_inputs = int(input(\"Enter the number of elements: \"))\n",
    "\n",
    "input_list = []\n",
    "for i in range(num_inputs):\n",
    "    element = int(input(f\"Enter element {i + 1}: \"))\n",
    "    input_list.append(element)\n",
    "\n",
    "input_list.sort()\n",
    "\n",
    "target_value = int(input(\"Enter the target element to search: \"))\n",
    "\n",
    "result = binary_search(input_list, target_value)\n",
    "\n",
    "if result != -1:\n",
    "    print(f\"{target_value} found at position {result}.\")\n",
    "else:\n",
    "    print(f\"{target_value} not found in the list.\")\n"
   ]
  },
  {
   "cell_type": "markdown",
   "id": "0f500cb0",
   "metadata": {},
   "source": [
    "# 3."
   ]
  },
  {
   "cell_type": "code",
   "execution_count": 3,
   "id": "07a60e20",
   "metadata": {},
   "outputs": [
    {
     "name": "stdout",
     "output_type": "stream",
     "text": [
      "Sorted list: [11, 12, 22, 25, 34, 64, 90]\n"
     ]
    }
   ],
   "source": [
    "def selection_sort(arr):\n",
    "    sorted_list = []\n",
    "\n",
    "    while arr:\n",
    "        min_value = min(arr)\n",
    "        sorted_list.append(min_value)\n",
    "        arr.remove(min_value)\n",
    "\n",
    "    return sorted_list\n",
    "\n",
    "unsorted_list = [64, 34, 25, 12, 22, 11, 90]\n",
    "sorted_list = selection_sort(unsorted_list)\n",
    "print(\"Sorted list:\", sorted_list)\n"
   ]
  },
  {
   "cell_type": "markdown",
   "id": "f9480911",
   "metadata": {},
   "source": [
    "# 4."
   ]
  },
  {
   "cell_type": "code",
   "execution_count": 4,
   "id": "ad70c907",
   "metadata": {},
   "outputs": [
    {
     "name": "stdout",
     "output_type": "stream",
     "text": [
      "Sorted elements: [11, 12, 22, 25, 34, 64, 90]\n"
     ]
    }
   ],
   "source": [
    "def insertion_sort(arr):\n",
    "    for i in range(1, len(arr)):\n",
    "        key = arr[i]\n",
    "        j = i - 1\n",
    "\n",
    "        while j >= 0 and key < arr[j]:\n",
    "            arr[j + 1] = arr[j]\n",
    "            j -= 1\n",
    "\n",
    "        arr[j + 1] = key\n",
    "\n",
    "unsorted_list = [64, 34, 25, 12, 22, 11, 90]\n",
    "insertion_sort(unsorted_list)\n",
    "print(\"Sorted elements:\", unsorted_list)\n"
   ]
  },
  {
   "cell_type": "markdown",
   "id": "d2f5b820",
   "metadata": {},
   "source": [
    "# 5."
   ]
  },
  {
   "cell_type": "code",
   "execution_count": 5,
   "id": "1ee1e9f4",
   "metadata": {},
   "outputs": [
    {
     "name": "stdout",
     "output_type": "stream",
     "text": [
      "Sorted elements: [11, 12, 22, 25, 34, 64, 90]\n"
     ]
    }
   ],
   "source": [
    "def merge_sort(arr):\n",
    "    if len(arr) <= 1:\n",
    "        return arr\n",
    "\n",
    "    mid = len(arr) // 2\n",
    "    left_half = arr[:mid]\n",
    "    right_half = arr[mid:]\n",
    "\n",
    "    left_half = merge_sort(left_half)\n",
    "    right_half = merge_sort(right_half)\n",
    "\n",
    "    return merge(left_half, right_half)\n",
    "\n",
    "def merge(left, right):\n",
    "    result = []\n",
    "    i = j = 0\n",
    "\n",
    "    while i < len(left) and j < len(right):\n",
    "        if left[i] < right[j]:\n",
    "            result.append(left[i])\n",
    "            i += 1\n",
    "        else:\n",
    "            result.append(right[j])\n",
    "            j += 1\n",
    "\n",
    "    result.extend(left[i:])\n",
    "    result.extend(right[j:])\n",
    "    return result\n",
    "\n",
    "unsorted_list = [64, 34, 25, 12, 22, 11, 90]\n",
    "sorted_list = merge_sort(unsorted_list)\n",
    "print(\"Sorted elements:\", sorted_list)\n"
   ]
  },
  {
   "cell_type": "markdown",
   "id": "187a6053",
   "metadata": {},
   "source": [
    "# 6."
   ]
  },
  {
   "cell_type": "code",
   "execution_count": 6,
   "id": "e4d195f6",
   "metadata": {},
   "outputs": [
    {
     "name": "stdout",
     "output_type": "stream",
     "text": [
      "Smallest element in the list: 5\n",
      "Element 25 inserted.\n",
      "Elements in reverse order:\n",
      "25 20 5 15 5 10 "
     ]
    }
   ],
   "source": [
    "class Node:\n",
    "    def __init__(self, data):\n",
    "        self.data = data\n",
    "        self.next = None\n",
    "\n",
    "class LinkedList:\n",
    "    def __init__(self):\n",
    "        self.head = None\n",
    "\n",
    "    def append(self, data):\n",
    "        new_node = Node(data)\n",
    "        if not self.head:\n",
    "            self.head = new_node\n",
    "            return\n",
    "\n",
    "        current = self.head\n",
    "        while current.next:\n",
    "            current = current.next\n",
    "        current.next = new_node\n",
    "\n",
    "    def find_smallest_element(self):\n",
    "        if not self.head:\n",
    "            return None\n",
    "\n",
    "        smallest = self.head.data\n",
    "        current = self.head.next\n",
    "\n",
    "        while current:\n",
    "            if current.data < smallest:\n",
    "                smallest = current.data\n",
    "            current = current.next\n",
    "\n",
    "        return smallest\n",
    "\n",
    "    def insert_unique_element(self, data):\n",
    "        if not self.head:\n",
    "            self.head = Node(data)\n",
    "            return True\n",
    "\n",
    "        current = self.head\n",
    "        while current:\n",
    "            if current.data == data:\n",
    "                return False\n",
    "            if not current.next:\n",
    "                break\n",
    "            current = current.next\n",
    "\n",
    "        current.next = Node(data)\n",
    "        return True\n",
    "\n",
    "    def display_reverse(self):\n",
    "        def recursive_reverse(node):\n",
    "            if not node:\n",
    "                return\n",
    "            recursive_reverse(node.next)\n",
    "            print(node.data, end=\" \")\n",
    "\n",
    "        recursive_reverse(self.head)\n",
    "\n",
    "linked_list = LinkedList()\n",
    "linked_list.append(10)\n",
    "linked_list.append(5)\n",
    "linked_list.append(15)\n",
    "linked_list.append(5)\n",
    "linked_list.append(20)\n",
    "\n",
    "smallest_element = linked_list.find_smallest_element()\n",
    "print(f\"Smallest element in the list: {smallest_element}\")\n",
    "\n",
    "inserted = linked_list.insert_unique_element(25)\n",
    "if inserted:\n",
    "    print(\"Element 25 inserted.\")\n",
    "else:\n",
    "    print(\"Element 25 is a duplicate and not inserted.\")\n",
    "\n",
    "print(\"Elements in reverse order:\")\n",
    "linked_list.display_reverse()\n"
   ]
  },
  {
   "cell_type": "markdown",
   "id": "05fa6d59",
   "metadata": {},
   "source": [
    "# 7."
   ]
  },
  {
   "cell_type": "code",
   "execution_count": 7,
   "id": "5c2cb1e5",
   "metadata": {},
   "outputs": [
    {
     "name": "stdout",
     "output_type": "stream",
     "text": [
      "Stack elements:\n",
      "30\n",
      "20\n",
      "10\n",
      "Popped item: 30\n",
      "Stack elements:\n",
      "20\n",
      "10\n"
     ]
    }
   ],
   "source": [
    "class Stack:\n",
    "    def __init__(self):\n",
    "        self.items = []\n",
    "\n",
    "    def push(self, item):\n",
    "        self.items.append(item)\n",
    "\n",
    "    def pop(self):\n",
    "        if not self.is_empty():\n",
    "            return self.items.pop()\n",
    "        else:\n",
    "            return None\n",
    "\n",
    "    def is_empty(self):\n",
    "        return len(self.items) == 0\n",
    "\n",
    "    def display(self):\n",
    "        if not self.is_empty():\n",
    "            print(\"Stack elements:\")\n",
    "            for item in self.items[::-1]:\n",
    "                print(item)\n",
    "        else:\n",
    "            print(\"Stack is empty\")\n",
    "\n",
    "stack = Stack()\n",
    "stack.push(10)\n",
    "stack.push(20)\n",
    "stack.push(30)\n",
    "stack.display()\n",
    "popped_item = stack.pop()\n",
    "if popped_item is not None:\n",
    "    print(f\"Popped item: {popped_item}\")\n",
    "stack.display()\n"
   ]
  },
  {
   "cell_type": "markdown",
   "id": "128b9ca8",
   "metadata": {},
   "source": [
    "# 8."
   ]
  },
  {
   "cell_type": "code",
   "execution_count": 8,
   "id": "51b80eae",
   "metadata": {},
   "outputs": [
    {
     "name": "stdout",
     "output_type": "stream",
     "text": [
      "Queue elements:\n",
      "10\n",
      "20\n",
      "30\n",
      "Deleted item: 10\n",
      "Queue elements:\n",
      "20\n",
      "30\n"
     ]
    }
   ],
   "source": [
    "class Queue:\n",
    "    def __init__(self):\n",
    "        self.items = []\n",
    "\n",
    "    def insert(self, item):\n",
    "        self.items.append(item)\n",
    "\n",
    "    def delete(self):\n",
    "        if not self.is_empty():\n",
    "            return self.items.pop(0)\n",
    "        else:\n",
    "            return None\n",
    "\n",
    "    def is_empty(self):\n",
    "        return len(self.items) == 0\n",
    "\n",
    "    def display(self):\n",
    "        if not self.is_empty():\n",
    "            print(\"Queue elements:\")\n",
    "            for item in self.items:\n",
    "                print(item)\n",
    "        else:\n",
    "            print(\"Queue is empty\")\n",
    "\n",
    "queue = Queue()\n",
    "queue.insert(10)\n",
    "queue.insert(20)\n",
    "queue.insert(30)\n",
    "queue.display()\n",
    "deleted_item = queue.delete()\n",
    "if deleted_item is not None:\n",
    "    print(f\"Deleted item: {deleted_item}\")\n",
    "queue.display()\n"
   ]
  },
  {
   "cell_type": "markdown",
   "id": "2b9ac201",
   "metadata": {},
   "source": [
    "# 9."
   ]
  },
  {
   "cell_type": "code",
   "execution_count": 9,
   "id": "cff47beb",
   "metadata": {},
   "outputs": [
    {
     "name": "stdout",
     "output_type": "stream",
     "text": [
      "Infix Expression 1: A/B^C-D*E-F*G\n",
      "Postfix Expression 1: ABC^/DE*-FG*-\n",
      "Infix Expression 2: (B^2-4*A*C)^(1/2)*(100)\n",
      "Postfix Expression 2: B2^4A*C*-12/^100*\n"
     ]
    }
   ],
   "source": [
    "class Stack:\n",
    "    def __init__(self):\n",
    "        self.items = []\n",
    "\n",
    "    def push(self, item):\n",
    "        self.items.append(item)\n",
    "\n",
    "    def pop(self):\n",
    "        if not self.is_empty():\n",
    "            return self.items.pop()\n",
    "        else:\n",
    "            return None\n",
    "\n",
    "    def is_empty(self):\n",
    "        return len(self.items) == 0\n",
    "\n",
    "    def peek(self):\n",
    "        if not self.is_empty():\n",
    "            return self.items[-1]\n",
    "        else:\n",
    "            return None\n",
    "\n",
    "def infix_to_postfix(expression):\n",
    "    precedence = {'+': 1, '-': 1, '*': 2, '/': 2, '^': 3}\n",
    "    postfix = []\n",
    "    stack = Stack()\n",
    "\n",
    "    for char in expression:\n",
    "        if char.isalnum():\n",
    "            postfix.append(char)\n",
    "        elif char == '(':\n",
    "            stack.push(char)\n",
    "        elif char == ')':\n",
    "            while not stack.is_empty() and stack.peek() != '(':\n",
    "                postfix.append(stack.pop())\n",
    "            stack.pop()  # Remove the '('\n",
    "        else:\n",
    "            while not stack.is_empty() and precedence[char] <= precedence.get(stack.peek(), 0):\n",
    "                postfix.append(stack.pop())\n",
    "            stack.push(char)\n",
    "\n",
    "    while not stack.is_empty():\n",
    "        postfix.append(stack.pop())\n",
    "\n",
    "    return ''.join(postfix)\n",
    "\n",
    "expression1 = \"A/B^C-D*E-F*G\"\n",
    "expression2 = \"(B^2-4*A*C)^(1/2)*(100)\"\n",
    "\n",
    "print(\"Infix Expression 1:\", expression1)\n",
    "print(\"Postfix Expression 1:\", infix_to_postfix(expression1))\n",
    "\n",
    "print(\"Infix Expression 2:\", expression2)\n",
    "print(\"Postfix Expression 2:\", infix_to_postfix(expression2))\n"
   ]
  },
  {
   "cell_type": "code",
   "execution_count": null,
   "id": "9e45778b",
   "metadata": {},
   "outputs": [],
   "source": []
  }
 ],
 "metadata": {
  "kernelspec": {
   "display_name": "Python 3 (ipykernel)",
   "language": "python",
   "name": "python3"
  },
  "language_info": {
   "codemirror_mode": {
    "name": "ipython",
    "version": 3
   },
   "file_extension": ".py",
   "mimetype": "text/x-python",
   "name": "python",
   "nbconvert_exporter": "python",
   "pygments_lexer": "ipython3",
   "version": "3.11.4"
  }
 },
 "nbformat": 4,
 "nbformat_minor": 5
}
