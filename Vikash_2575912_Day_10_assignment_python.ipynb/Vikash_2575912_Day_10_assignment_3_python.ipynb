{
 "cells": [
  {
   "cell_type": "code",
   "execution_count": 2,
   "id": "2854c780",
   "metadata": {},
   "outputs": [],
   "source": [
    "%matplotlib inline \n",
    "import pandas as pd"
   ]
  },
  {
   "cell_type": "code",
   "execution_count": null,
   "id": "45f9ce69",
   "metadata": {},
   "outputs": [],
   "source": [
    "from IPython.core.display import HTML \n",
    "css = open('style-table.css').read() + open('style-notebook.css').read()\n",
    "HTML('<style>{}</style>'.format(css))"
   ]
  },
  {
   "cell_type": "code",
   "execution_count": 3,
   "id": "d3d43fdc",
   "metadata": {},
   "outputs": [
    {
     "data": {
      "text/html": [
       "<div>\n",
       "<style scoped>\n",
       "    .dataframe tbody tr th:only-of-type {\n",
       "        vertical-align: middle;\n",
       "    }\n",
       "\n",
       "    .dataframe tbody tr th {\n",
       "        vertical-align: top;\n",
       "    }\n",
       "\n",
       "    .dataframe thead th {\n",
       "        text-align: right;\n",
       "    }\n",
       "</style>\n",
       "<table border=\"1\" class=\"dataframe\">\n",
       "  <thead>\n",
       "    <tr style=\"text-align: right;\">\n",
       "      <th></th>\n",
       "      <th>title</th>\n",
       "      <th>year</th>\n",
       "    </tr>\n",
       "  </thead>\n",
       "  <tbody>\n",
       "    <tr>\n",
       "      <th>0</th>\n",
       "      <td>Tasveer Mere Sanam</td>\n",
       "      <td>1996</td>\n",
       "    </tr>\n",
       "    <tr>\n",
       "      <th>1</th>\n",
       "      <td>Only You</td>\n",
       "      <td>1994</td>\n",
       "    </tr>\n",
       "    <tr>\n",
       "      <th>2</th>\n",
       "      <td>El pueblo del terror</td>\n",
       "      <td>1970</td>\n",
       "    </tr>\n",
       "    <tr>\n",
       "      <th>3</th>\n",
       "      <td>Machine</td>\n",
       "      <td>2007</td>\n",
       "    </tr>\n",
       "    <tr>\n",
       "      <th>4</th>\n",
       "      <td>MARy</td>\n",
       "      <td>2008</td>\n",
       "    </tr>\n",
       "  </tbody>\n",
       "</table>\n",
       "</div>"
      ],
      "text/plain": [
       "                  title  year\n",
       "0    Tasveer Mere Sanam  1996\n",
       "1              Only You  1994\n",
       "2  El pueblo del terror  1970\n",
       "3               Machine  2007\n",
       "4                  MARy  2008"
      ]
     },
     "execution_count": 3,
     "metadata": {},
     "output_type": "execute_result"
    }
   ],
   "source": [
    "titles= pd.read_csv('titles.csv')\n",
    "titles.head()\n"
   ]
  },
  {
   "cell_type": "code",
   "execution_count": 4,
   "id": "2956cb54",
   "metadata": {},
   "outputs": [
    {
     "data": {
      "text/html": [
       "<div>\n",
       "<style scoped>\n",
       "    .dataframe tbody tr th:only-of-type {\n",
       "        vertical-align: middle;\n",
       "    }\n",
       "\n",
       "    .dataframe tbody tr th {\n",
       "        vertical-align: top;\n",
       "    }\n",
       "\n",
       "    .dataframe thead th {\n",
       "        text-align: right;\n",
       "    }\n",
       "</style>\n",
       "<table border=\"1\" class=\"dataframe\">\n",
       "  <thead>\n",
       "    <tr style=\"text-align: right;\">\n",
       "      <th></th>\n",
       "      <th>title</th>\n",
       "      <th>year</th>\n",
       "      <th>name</th>\n",
       "      <th>type</th>\n",
       "      <th>character</th>\n",
       "      <th>n</th>\n",
       "    </tr>\n",
       "  </thead>\n",
       "  <tbody>\n",
       "    <tr>\n",
       "      <th>0</th>\n",
       "      <td>Closet Monster</td>\n",
       "      <td>2015</td>\n",
       "      <td>Buffy #1</td>\n",
       "      <td>actor</td>\n",
       "      <td>Buffy 4</td>\n",
       "      <td>31.0</td>\n",
       "    </tr>\n",
       "    <tr>\n",
       "      <th>1</th>\n",
       "      <td>Suuri illusioni</td>\n",
       "      <td>1985</td>\n",
       "      <td>Homo $</td>\n",
       "      <td>actor</td>\n",
       "      <td>Guests</td>\n",
       "      <td>22.0</td>\n",
       "    </tr>\n",
       "    <tr>\n",
       "      <th>2</th>\n",
       "      <td>Battle of the Sexes</td>\n",
       "      <td>2017</td>\n",
       "      <td>$hutter</td>\n",
       "      <td>actor</td>\n",
       "      <td>Bobby Riggs Fan</td>\n",
       "      <td>10.0</td>\n",
       "    </tr>\n",
       "    <tr>\n",
       "      <th>3</th>\n",
       "      <td>Secret in Their Eyes</td>\n",
       "      <td>2015</td>\n",
       "      <td>$hutter</td>\n",
       "      <td>actor</td>\n",
       "      <td>2002 Dodger Fan</td>\n",
       "      <td>NaN</td>\n",
       "    </tr>\n",
       "    <tr>\n",
       "      <th>4</th>\n",
       "      <td>Steve Jobs</td>\n",
       "      <td>2015</td>\n",
       "      <td>$hutter</td>\n",
       "      <td>actor</td>\n",
       "      <td>1988 Opera House Patron</td>\n",
       "      <td>NaN</td>\n",
       "    </tr>\n",
       "  </tbody>\n",
       "</table>\n",
       "</div>"
      ],
      "text/plain": [
       "                  title  year      name   type                character     n\n",
       "0        Closet Monster  2015  Buffy #1  actor                  Buffy 4  31.0\n",
       "1       Suuri illusioni  1985    Homo $  actor                   Guests  22.0\n",
       "2   Battle of the Sexes  2017   $hutter  actor          Bobby Riggs Fan  10.0\n",
       "3  Secret in Their Eyes  2015   $hutter  actor          2002 Dodger Fan   NaN\n",
       "4            Steve Jobs  2015   $hutter  actor  1988 Opera House Patron   NaN"
      ]
     },
     "execution_count": 4,
     "metadata": {},
     "output_type": "execute_result"
    }
   ],
   "source": [
    "cast=pd.read_csv('cast.csv')\n",
    "cast.head()"
   ]
  },
  {
   "cell_type": "markdown",
   "id": "1a968abc",
   "metadata": {},
   "source": [
    "Using groupby(), plot the number of films that have been released each decade in the history of cinema."
   ]
  },
  {
   "cell_type": "code",
   "execution_count": 7,
   "id": "6badab3a",
   "metadata": {},
   "outputs": [
    {
     "data": {
      "image/png": "[encoded data removed]",
      "text/plain": [
       "<Figure size 1200x600 with 1 Axes>"
      ]
     },
     "metadata": {},
     "output_type": "display_data"
    }
   ],
   "source": [
    "import pandas as pd\n",
    "import matplotlib.pyplot as plt\n",
    "\n",
    "# Load the titles DataFrame\n",
    "titles = pd.read_csv('titles.csv')\n",
    "\n",
    "# Extract the decade from the 'year' column\n",
    "titles['decade'] = (titles['year'] // 10) * 10\n",
    "\n",
    "# Group the data by decade and count the number of films\n",
    "film_counts_by_decade = titles.groupby('decade').size()\n",
    "\n",
    "# Create a bar chart to visualize the data\n",
    "plt.figure(figsize=(12, 6))\n",
    "film_counts_by_decade.plot(kind='bar', color='skyblue')\n",
    "plt.title('Number of Films Released Each Decade')\n",
    "plt.xlabel('Decade')\n",
    "plt.ylabel('Number of Films')\n",
    "plt.xticks(rotation=45)\n",
    "plt.show()\n"
   ]
  },
  {
   "cell_type": "code",
   "execution_count": null,
   "id": "6ab08044",
   "metadata": {},
   "outputs": [],
   "source": [
    "Use groupby() to plot the number of \"Hamlet\" films made each decade."
   ]
  },
  {
   "cell_type": "code",
   "execution_count": 8,
   "id": "c27ff11e",
   "metadata": {},
   "outputs": [
    {
     "data": {
      "image/png": "[encoded data removed]",
      "text/plain": [
       "<Figure size 1200x600 with 1 Axes>"
      ]
     },
     "metadata": {},
     "output_type": "display_data"
    }
   ],
   "source": [
    "import pandas as pd\n",
    "import matplotlib.pyplot as plt\n",
    "\n",
    "# Load the titles DataFrame\n",
    "titles = pd.read_csv('titles.csv')\n",
    "\n",
    "# Extract the decade from the 'year' column\n",
    "titles['decade'] = (titles['year'] // 10) * 10\n",
    "\n",
    "# Filter the data for films with the title \"Hamlet\"\n",
    "hamlet_films = titles[titles['title'] == 'Hamlet']\n",
    "\n",
    "# Group the filtered data by decade and count the number of \"Hamlet\" films\n",
    "hamlet_counts_by_decade = hamlet_films.groupby('decade').size()\n",
    "\n",
    "# Create a bar chart to visualize the data\n",
    "plt.figure(figsize=(12, 6))\n",
    "hamlet_counts_by_decade.plot(kind='bar', color='skyblue')\n",
    "plt.title('Number of \"Hamlet\" Films Made Each Decade')\n",
    "plt.xlabel('Decade')\n",
    "plt.ylabel('Number of \"Hamlet\" Films')\n",
    "plt.xticks(rotation=45)\n",
    "plt.show()\n"
   ]
  },
  {
   "cell_type": "markdown",
   "id": "7502b39d",
   "metadata": {},
   "source": [
    "How many leading (n=1) roles were available to actors, and how\n",
    "\n",
    "many to actresses, in each year of the 1950s?"
   ]
  },
  {
   "cell_type": "code",
   "execution_count": 9,
   "id": "35817f5d",
   "metadata": {},
   "outputs": [
    {
     "name": "stdout",
     "output_type": "stream",
     "text": [
      "Number of leading (n=1) roles available to actors and actresses in each year of the 1950s:\n",
      "year  type   \n",
      "1950  actor      625\n",
      "      actress    288\n",
      "1951  actor      651\n",
      "      actress    285\n",
      "1952  actor      613\n",
      "      actress    304\n",
      "1953  actor      664\n",
      "      actress    312\n",
      "1954  actor      636\n",
      "      actress    316\n",
      "1955  actor      648\n",
      "      actress    285\n",
      "1956  actor      668\n",
      "      actress    307\n",
      "1957  actor      739\n",
      "      actress    315\n",
      "1958  actor      715\n",
      "      actress    301\n",
      "1959  actor      733\n",
      "      actress    327\n",
      "Name: n, dtype: int64\n"
     ]
    }
   ],
   "source": [
    "\n",
    "\n",
    "# Filter for rows where the year is in the 1950s\n",
    "roles_1950s = cast[(cast['year'] >= 1950) & (cast['year'] <= 1959)]\n",
    "\n",
    "# Group the data by year, type (actor/actress), and n-value, and count the number of roles\n",
    "leading_roles_counts = roles_1950s[roles_1950s['n'] == 1].groupby(['year', 'type'])['n'].count()\n",
    "\n",
    "\n",
    "print(\"Number of leading (n=1) roles available to actors and actresses in each year of the 1950s:\")\n",
    "print(leading_roles_counts)\n"
   ]
  },
  {
   "cell_type": "markdown",
   "id": "15746971",
   "metadata": {},
   "source": [
    "In the 1950s decade taken as a whole, how many total roles were\n",
    "\n",
    "available to actors, and how many to actresses, for each \"n\" number\n",
    "\n",
    "1 through 5?"
   ]
  },
  {
   "cell_type": "code",
   "execution_count": 10,
   "id": "32f3d5e6",
   "metadata": {},
   "outputs": [
    {
     "name": "stdout",
     "output_type": "stream",
     "text": [
      "Total roles available to actors and actresses in the 1950s for each 'n' number (1-5):\n",
      "type    actor  actress\n",
      "n                     \n",
      "1.0    6692.0   3040.0\n",
      "2.0    4640.0   4635.0\n",
      "3.0    5654.0   3201.0\n",
      "4.0    5663.0   2881.0\n",
      "5.0    5674.0   2592.0\n",
      "...       ...      ...\n",
      "162.0     0.0      1.0\n",
      "163.0     0.0      1.0\n",
      "164.0     0.0      1.0\n",
      "418.0     0.0      1.0\n",
      "788.0     0.0      1.0\n",
      "\n",
      "[166 rows x 2 columns]\n"
     ]
    }
   ],
   "source": [
    "\n",
    "\n",
    "roles_1950s = cast[(cast['year'] >= 1950) & (cast['year'] <= 1959)]\n",
    "\n",
    "# Group the data by type (actor/actress) and n-value, and count the number of roles\n",
    "roles_by_n_and_type = roles_1950s.groupby(['n', 'type'])['n'].count().unstack()\n",
    "\n",
    "# Fill missing values with 0 (no roles for that combination of n and type)\n",
    "roles_by_n_and_type.fillna(0, inplace=True)\n",
    "\n",
    "\n",
    "print(\"Total roles available to actors and actresses in the 1950s for each 'n' number (1-5):\")\n",
    "print(roles_by_n_and_type)\n"
   ]
  },
  {
   "cell_type": "code",
   "execution_count": null,
   "id": "d9707203",
   "metadata": {},
   "outputs": [],
   "source": [
    "Use groupby() to determine how many roles are listed for each of the\n",
    "\n",
    "Pink Panther movies."
   ]
  },
  {
   "cell_type": "code",
   "execution_count": 11,
   "id": "0c8544fd",
   "metadata": {},
   "outputs": [
    {
     "name": "stdout",
     "output_type": "stream",
     "text": [
      "Number of roles listed for each Pink Panther movie:\n",
      "title\n",
      "Curse of the Pink Panther          67\n",
      "Revenge of the Pink Panther        68\n",
      "Son of the Pink Panther            46\n",
      "The Pink Panther                  111\n",
      "The Pink Panther 2                 84\n",
      "The Pink Panther Strikes Again     70\n",
      "The Return of the Pink Panther     30\n",
      "Trail of the Pink Panther          41\n",
      "dtype: int64\n"
     ]
    }
   ],
   "source": [
    "\n",
    "\n",
    "# Filter for rows where the 'title' column contains \"Pink Panther\"\n",
    "pink_panther_movies = cast[cast['title'].str.contains('Pink Panther', case=False)]\n",
    "\n",
    "# Group the data by the 'title' column and count the number of roles\n",
    "roles_by_pink_panther_movie = pink_panther_movies.groupby('title').size()\n",
    "\n",
    "# Display the results\n",
    "print(\"Number of roles listed for each Pink Panther movie:\")\n",
    "print(roles_by_pink_panther_movie)\n"
   ]
  },
  {
   "cell_type": "markdown",
   "id": "6c91905b",
   "metadata": {},
   "source": [
    "List, in order by year, each of the films in which Frank Oz has played more than 1 role."
   ]
  },
  {
   "cell_type": "code",
   "execution_count": 12,
   "id": "5685cdab",
   "metadata": {},
   "outputs": [
    {
     "name": "stdout",
     "output_type": "stream",
     "text": [
      "Films in which Frank Oz played more than one role, ordered by year:\n",
      "                                  title  year  0\n",
      "8                      The Muppet Movie  1979  8\n",
      "0        An American Werewolf in London  1981  2\n",
      "6                The Great Muppet Caper  1981  6\n",
      "5                      The Dark Crystal  1982  2\n",
      "9            The Muppets Take Manhattan  1984  7\n",
      "1                      Follow That Bird  1985  3\n",
      "7            The Muppet Christmas Carol  1992  7\n",
      "2                Muppet Treasure Island  1996  4\n",
      "3                    Muppets from Space  1999  4\n",
      "4  The Adventures of Elmo in Grouchland  1999  3\n"
     ]
    }
   ],
   "source": [
    "\n",
    "\n",
    "# Filter for rows where the name is \"Frank Oz\"\n",
    "frank_oz_roles = cast[cast['name'] == 'Frank Oz']\n",
    "\n",
    "# Group the data by title and year, and count the number of roles Frank Oz played in each film\n",
    "roles_per_film = frank_oz_roles.groupby(['title', 'year']).size()\n",
    "\n",
    "# Filter for films where Frank Oz played more than one role\n",
    "films_with_multiple_roles = roles_per_film[roles_per_film > 1].reset_index()\n",
    "\n",
    "# Sort the films by year\n",
    "films_with_multiple_roles = films_with_multiple_roles.sort_values(by='year')\n",
    "\n",
    "print(\"Films in which Frank Oz played more than one role, ordered by year:\")\n",
    "print(films_with_multiple_roles)\n"
   ]
  },
  {
   "cell_type": "markdown",
   "id": "56dac3ca",
   "metadata": {},
   "source": [
    "List each of the characters that Frank Oz has portrayed at least twice"
   ]
  },
  {
   "cell_type": "code",
   "execution_count": 13,
   "id": "9cb00348",
   "metadata": {},
   "outputs": [
    {
     "name": "stdout",
     "output_type": "stream",
     "text": [
      "Characters that Frank Oz has portrayed at least twice:\n",
      "Miss Piggy        6\n",
      "Yoda              6\n",
      "Animal            6\n",
      "Cookie Monster    5\n",
      "Sam the Eagle     5\n",
      "Fozzie Bear       4\n",
      "Bert              3\n",
      "Grover            2\n",
      "Name: character, dtype: int64\n"
     ]
    }
   ],
   "source": [
    "\n",
    "\n",
    "# Filter for rows where the name is \"Frank Oz\"\n",
    "frank_oz_roles = cast[cast['name'] == 'Frank Oz']\n",
    "\n",
    "# Group the data by character and count the number of times Frank Oz portrayed each character\n",
    "character_counts = frank_oz_roles['character'].value_counts()\n",
    "\n",
    "# Filter for characters that Frank Oz portrayed at least twice\n",
    "characters_at_least_twice = character_counts[character_counts >= 2]\n",
    "\n",
    "# Display the result\n",
    "print(\"Characters that Frank Oz has portrayed at least twice:\")\n",
    "print(characters_at_least_twice)\n"
   ]
  },
  {
   "cell_type": "code",
   "execution_count": null,
   "id": "43b903f6",
   "metadata": {},
   "outputs": [],
   "source": []
  }
 ],
 "metadata": {
  "kernelspec": {
   "display_name": "Python 3 (ipykernel)",
   "language": "python",
   "name": "python3"
  },
  "language_info": {
   "codemirror_mode": {
    "name": "ipython",
    "version": 3
   },
   "file_extension": ".py",
   "mimetype": "text/x-python",
   "name": "python",
   "nbconvert_exporter": "python",
   "pygments_lexer": "ipython3",
   "version": "3.11.4"
  }
 },
 "nbformat": 4,
 "nbformat_minor": 5
}
