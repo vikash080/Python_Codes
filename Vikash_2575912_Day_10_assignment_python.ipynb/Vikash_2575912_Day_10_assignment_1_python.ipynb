{
 "cells": [
  {
   "cell_type": "code",
   "execution_count": null,
   "id": "85a6e8b3",
   "metadata": {},
   "outputs": [],
   "source": [
    "%matplotlib inline \n",
    "import pandas as pd"
   ]
  },
  {
   "cell_type": "code",
   "execution_count": 9,
   "id": "788a578c",
   "metadata": {},
   "outputs": [
    {
     "ename": "FileNotFoundError",
     "evalue": "[Errno 2] No such file or directory: 'style-table.css'",
     "output_type": "error",
     "traceback": [
      "\u001b[1;31m---------------------------------------------------------------------------\u001b[0m",
      "\u001b[1;31mFileNotFoundError\u001b[0m                         Traceback (most recent call last)",
      "Cell \u001b[1;32mIn[9], line 2\u001b[0m\n\u001b[0;32m      1\u001b[0m \u001b[38;5;28;01mfrom\u001b[39;00m \u001b[38;5;21;01mIPython\u001b[39;00m\u001b[38;5;21;01m.\u001b[39;00m\u001b[38;5;21;01mcore\u001b[39;00m\u001b[38;5;21;01m.\u001b[39;00m\u001b[38;5;21;01mdisplay\u001b[39;00m \u001b[38;5;28;01mimport\u001b[39;00m HTML \n\u001b[1;32m----> 2\u001b[0m css\u001b[38;5;241m=\u001b[39m \u001b[38;5;28mopen\u001b[39m(\u001b[38;5;124m'\u001b[39m\u001b[38;5;124mstyle-table.css\u001b[39m\u001b[38;5;124m'\u001b[39m)\u001b[38;5;241m.\u001b[39mread()\u001b[38;5;241m+\u001b[39m \u001b[38;5;28mopen\u001b[39m(\u001b[38;5;124m'\u001b[39m\u001b[38;5;124mstyle-notebook.css\u001b[39m\u001b[38;5;124m'\u001b[39m)\u001b[38;5;241m.\u001b[39mread()\n\u001b[0;32m      3\u001b[0m HTML(\u001b[38;5;124m'\u001b[39m\u001b[38;5;124m<style>\u001b[39m\u001b[38;5;132;01m{}\u001b[39;00m\u001b[38;5;124m</style>\u001b[39m\u001b[38;5;124m'\u001b[39m\u001b[38;5;241m.\u001b[39mformat(css))\n",
      "File \u001b[1;32m~\\anaconda3\\Lib\\site-packages\\IPython\\core\\interactiveshell.py:284\u001b[0m, in \u001b[0;36m_modified_open\u001b[1;34m(file, *args, **kwargs)\u001b[0m\n\u001b[0;32m    277\u001b[0m \u001b[38;5;28;01mif\u001b[39;00m file \u001b[38;5;129;01min\u001b[39;00m {\u001b[38;5;241m0\u001b[39m, \u001b[38;5;241m1\u001b[39m, \u001b[38;5;241m2\u001b[39m}:\n\u001b[0;32m    278\u001b[0m     \u001b[38;5;28;01mraise\u001b[39;00m \u001b[38;5;167;01mValueError\u001b[39;00m(\n\u001b[0;32m    279\u001b[0m         \u001b[38;5;124mf\u001b[39m\u001b[38;5;124m\"\u001b[39m\u001b[38;5;124mIPython won\u001b[39m\u001b[38;5;124m'\u001b[39m\u001b[38;5;124mt let you open fd=\u001b[39m\u001b[38;5;132;01m{\u001b[39;00mfile\u001b[38;5;132;01m}\u001b[39;00m\u001b[38;5;124m by default \u001b[39m\u001b[38;5;124m\"\u001b[39m\n\u001b[0;32m    280\u001b[0m         \u001b[38;5;124m\"\u001b[39m\u001b[38;5;124mas it is likely to crash IPython. If you know what you are doing, \u001b[39m\u001b[38;5;124m\"\u001b[39m\n\u001b[0;32m    281\u001b[0m         \u001b[38;5;124m\"\u001b[39m\u001b[38;5;124myou can use builtins\u001b[39m\u001b[38;5;124m'\u001b[39m\u001b[38;5;124m open.\u001b[39m\u001b[38;5;124m\"\u001b[39m\n\u001b[0;32m    282\u001b[0m     )\n\u001b[1;32m--> 284\u001b[0m \u001b[38;5;28;01mreturn\u001b[39;00m io_open(file, \u001b[38;5;241m*\u001b[39margs, \u001b[38;5;241m*\u001b[39m\u001b[38;5;241m*\u001b[39mkwargs)\n",
      "\u001b[1;31mFileNotFoundError\u001b[0m: [Errno 2] No such file or directory: 'style-table.css'"
     ]
    }
   ],
   "source": [
    "from IPython.core.display import HTML \n",
    "css = open('style-table.css').read() + open('style-notebook.css').read()\n",
    "HTML('<style>{}</style>'.format(css))"
   ]
  },
  {
   "cell_type": "code",
   "execution_count": 23,
   "id": "61e750d4",
   "metadata": {},
   "outputs": [
    {
     "data": {
      "text/html": [
       "<div>\n",
       "<style scoped>\n",
       "    .dataframe tbody tr th:only-of-type {\n",
       "        vertical-align: middle;\n",
       "    }\n",
       "\n",
       "    .dataframe tbody tr th {\n",
       "        vertical-align: top;\n",
       "    }\n",
       "\n",
       "    .dataframe thead th {\n",
       "        text-align: right;\n",
       "    }\n",
       "</style>\n",
       "<table border=\"1\" class=\"dataframe\">\n",
       "  <thead>\n",
       "    <tr style=\"text-align: right;\">\n",
       "      <th></th>\n",
       "      <th>title</th>\n",
       "      <th>year</th>\n",
       "    </tr>\n",
       "  </thead>\n",
       "  <tbody>\n",
       "    <tr>\n",
       "      <th>0</th>\n",
       "      <td>Tasveer Mere Sanam</td>\n",
       "      <td>1996</td>\n",
       "    </tr>\n",
       "    <tr>\n",
       "      <th>1</th>\n",
       "      <td>Only You</td>\n",
       "      <td>1994</td>\n",
       "    </tr>\n",
       "    <tr>\n",
       "      <th>2</th>\n",
       "      <td>El pueblo del terror</td>\n",
       "      <td>1970</td>\n",
       "    </tr>\n",
       "    <tr>\n",
       "      <th>3</th>\n",
       "      <td>Machine</td>\n",
       "      <td>2007</td>\n",
       "    </tr>\n",
       "    <tr>\n",
       "      <th>4</th>\n",
       "      <td>MARy</td>\n",
       "      <td>2008</td>\n",
       "    </tr>\n",
       "  </tbody>\n",
       "</table>\n",
       "</div>"
      ],
      "text/plain": [
       "                  title  year\n",
       "0    Tasveer Mere Sanam  1996\n",
       "1              Only You  1994\n",
       "2  El pueblo del terror  1970\n",
       "3               Machine  2007\n",
       "4                  MARy  2008"
      ]
     },
     "execution_count": 23,
     "metadata": {},
     "output_type": "execute_result"
    }
   ],
   "source": [
    "titles= pd.read_csv('titles.csv')\n",
    "\n",
    "titles.head()"
   ]
  },
  {
   "cell_type": "markdown",
   "id": "32391b5a",
   "metadata": {},
   "source": [
    "How many movies are listed in the titles dataframe?"
   ]
  },
  {
   "cell_type": "code",
   "execution_count": 10,
   "id": "2c2229ae",
   "metadata": {},
   "outputs": [
    {
     "name": "stdout",
     "output_type": "stream",
     "text": [
      "Number of movies listed: 244914\n"
     ]
    }
   ],
   "source": [
    "number_of_movies = titles.shape[0]\n",
    "print(\"Number of movies listed:\", number_of_movies)\n"
   ]
  },
  {
   "cell_type": "markdown",
   "id": "b2e268f2",
   "metadata": {},
   "source": [
    "What are the earliest two films listed in the titles dataframe?"
   ]
  },
  {
   "cell_type": "code",
   "execution_count": 11,
   "id": "71e8dbb3",
   "metadata": {},
   "outputs": [
    {
     "name": "stdout",
     "output_type": "stream",
     "text": [
      "Earliest two films listed:\n",
      "                     title  year\n",
      "193222          Miss Jerry  1894\n",
      "51388   The Startled Lover  1898\n"
     ]
    }
   ],
   "source": [
    "earliest_films = titles.sort_values(by='year').head(2)\n",
    "print(\"Earliest two films listed:\")\n",
    "print(earliest_films)\n"
   ]
  },
  {
   "cell_type": "markdown",
   "id": "abda76f7",
   "metadata": {},
   "source": [
    "How many movies have the title \"Hamlet\"?"
   ]
  },
  {
   "cell_type": "code",
   "execution_count": 12,
   "id": "8799133a",
   "metadata": {},
   "outputs": [
    {
     "name": "stdout",
     "output_type": "stream",
     "text": [
      "Number of movies with the title 'Hamlet': 20\n"
     ]
    }
   ],
   "source": [
    "hamlet_movies_count = titles[titles['title'] == 'Hamlet'].shape[0]\n",
    "print(\"Number of movies with the title 'Hamlet':\", hamlet_movies_count)\n"
   ]
  },
  {
   "cell_type": "markdown",
   "id": "1696e7d9",
   "metadata": {},
   "source": [
    "How many movies are titled \"North by Northwest\""
   ]
  },
  {
   "cell_type": "code",
   "execution_count": 13,
   "id": "6d84874a",
   "metadata": {},
   "outputs": [
    {
     "name": "stdout",
     "output_type": "stream",
     "text": [
      "Number of movies with the title 'North by Northwest': 1\n"
     ]
    }
   ],
   "source": [
    "north_by_northwest_count = titles[titles['title'] == 'North by Northwest'].shape[0]\n",
    "print(\"Number of movies with the title 'North by Northwest':\", north_by_northwest_count)\n"
   ]
  },
  {
   "cell_type": "markdown",
   "id": "260fbd3a",
   "metadata": {},
   "source": [
    "When was the first movie titled \"Hamlet\" made?"
   ]
  },
  {
   "cell_type": "code",
   "execution_count": 14,
   "id": "face030d",
   "metadata": {},
   "outputs": [
    {
     "name": "stdout",
     "output_type": "stream",
     "text": [
      "The first movie titled 'Hamlet' was made in the year: 1910\n"
     ]
    }
   ],
   "source": [
    "hamlet_movies = titles[titles['title'] == 'Hamlet']\n",
    "earliest_hamlet_movie = hamlet_movies.sort_values(by='year').iloc[0]\n",
    "print(\"The first movie titled 'Hamlet' was made in the year:\", earliest_hamlet_movie['year'])\n"
   ]
  },
  {
   "cell_type": "markdown",
   "id": "a427dffb",
   "metadata": {},
   "source": [
    "List all of the \"Treasure Island\" movies from earliest to most\n",
    "\n",
    "recent."
   ]
  },
  {
   "cell_type": "code",
   "execution_count": 15,
   "id": "436594d5",
   "metadata": {},
   "outputs": [
    {
     "name": "stdout",
     "output_type": "stream",
     "text": [
      "List of 'Treasure Island' movies from earliest to most recent:\n",
      "                  title  year\n",
      "55686   Treasure Island  1918\n",
      "196514  Treasure Island  1920\n",
      "141822  Treasure Island  1934\n",
      "77354   Treasure Island  1950\n",
      "65051   Treasure Island  1972\n",
      "37238   Treasure Island  1973\n",
      "173051  Treasure Island  1985\n",
      "27076   Treasure Island  1999\n"
     ]
    }
   ],
   "source": [
    "treasure_island_movies = titles[titles['title'] == 'Treasure Island']\n",
    "treasure_island_movies_sorted = treasure_island_movies.sort_values(by='year')\n",
    "print(\"List of 'Treasure Island' movies from earliest to most recent:\")\n",
    "print(treasure_island_movies_sorted)\n"
   ]
  },
  {
   "cell_type": "markdown",
   "id": "b7b9de33",
   "metadata": {},
   "source": [
    "How many movies were made in the year 1950?"
   ]
  },
  {
   "cell_type": "code",
   "execution_count": 16,
   "id": "c6d87cc7",
   "metadata": {},
   "outputs": [
    {
     "name": "stdout",
     "output_type": "stream",
     "text": [
      "Number of movies made in the year 1950: 1113\n"
     ]
    }
   ],
   "source": [
    "movies_1950_count = titles[titles['year'] == 1950].shape[0]\n",
    "print(\"Number of movies made in the year 1950:\", movies_1950_count)\n"
   ]
  },
  {
   "cell_type": "markdown",
   "id": "0dd951a3",
   "metadata": {},
   "source": [
    "How many movies were made in the year 1960"
   ]
  },
  {
   "cell_type": "code",
   "execution_count": 17,
   "id": "db5d1b37",
   "metadata": {},
   "outputs": [
    {
     "name": "stdout",
     "output_type": "stream",
     "text": [
      "Number of movies made in the year 1960: 1549\n"
     ]
    }
   ],
   "source": [
    "movies_1960_count = titles[titles['year'] == 1960].shape[0]\n",
    "print(\"Number of movies made in the year 1960:\", movies_1960_count)\n"
   ]
  },
  {
   "cell_type": "markdown",
   "id": "3586dcd5",
   "metadata": {},
   "source": [
    "How many movies were made from 1950 through 1959?"
   ]
  },
  {
   "cell_type": "code",
   "execution_count": 18,
   "id": "3d6f60be",
   "metadata": {},
   "outputs": [
    {
     "name": "stdout",
     "output_type": "stream",
     "text": [
      "Number of movies made from 1950 through 1959: 12934\n"
     ]
    }
   ],
   "source": [
    "movies_1950s_count = titles[(titles['year'] >= 1950) & (titles['year'] <= 1959)].shape[0]\n",
    "print(\"Number of movies made from 1950 through 1959:\", movies_1950s_count)\n"
   ]
  },
  {
   "cell_type": "markdown",
   "id": "e2f509fd",
   "metadata": {},
   "source": [
    "In what years has a movie titled \"Batman\" been released?"
   ]
  },
  {
   "cell_type": "code",
   "execution_count": 19,
   "id": "fa373a14",
   "metadata": {},
   "outputs": [
    {
     "name": "stdout",
     "output_type": "stream",
     "text": [
      "Years in which a movie titled 'Batman' has been released: [1943 1989]\n"
     ]
    }
   ],
   "source": [
    "batman_movies = titles[titles['title'] == 'Batman']\n",
    "years_of_batman_movies = batman_movies['year'].unique()\n",
    "print(\"Years in which a movie titled 'Batman' has been released:\", years_of_batman_movies)\n"
   ]
  },
  {
   "cell_type": "markdown",
   "id": "19ab53df",
   "metadata": {},
   "source": [
    "How many roles were there in the movie \"Inception\"?"
   ]
  },
  {
   "cell_type": "code",
   "execution_count": 24,
   "id": "880fda62",
   "metadata": {},
   "outputs": [
    {
     "data": {
      "text/html": [
       "<div>\n",
       "<style scoped>\n",
       "    .dataframe tbody tr th:only-of-type {\n",
       "        vertical-align: middle;\n",
       "    }\n",
       "\n",
       "    .dataframe tbody tr th {\n",
       "        vertical-align: top;\n",
       "    }\n",
       "\n",
       "    .dataframe thead th {\n",
       "        text-align: right;\n",
       "    }\n",
       "</style>\n",
       "<table border=\"1\" class=\"dataframe\">\n",
       "  <thead>\n",
       "    <tr style=\"text-align: right;\">\n",
       "      <th></th>\n",
       "      <th>title</th>\n",
       "      <th>year</th>\n",
       "      <th>name</th>\n",
       "      <th>type</th>\n",
       "      <th>character</th>\n",
       "      <th>n</th>\n",
       "    </tr>\n",
       "  </thead>\n",
       "  <tbody>\n",
       "    <tr>\n",
       "      <th>0</th>\n",
       "      <td>Closet Monster</td>\n",
       "      <td>2015</td>\n",
       "      <td>Buffy #1</td>\n",
       "      <td>actor</td>\n",
       "      <td>Buffy 4</td>\n",
       "      <td>31.0</td>\n",
       "    </tr>\n",
       "    <tr>\n",
       "      <th>1</th>\n",
       "      <td>Suuri illusioni</td>\n",
       "      <td>1985</td>\n",
       "      <td>Homo $</td>\n",
       "      <td>actor</td>\n",
       "      <td>Guests</td>\n",
       "      <td>22.0</td>\n",
       "    </tr>\n",
       "    <tr>\n",
       "      <th>2</th>\n",
       "      <td>Battle of the Sexes</td>\n",
       "      <td>2017</td>\n",
       "      <td>$hutter</td>\n",
       "      <td>actor</td>\n",
       "      <td>Bobby Riggs Fan</td>\n",
       "      <td>10.0</td>\n",
       "    </tr>\n",
       "    <tr>\n",
       "      <th>3</th>\n",
       "      <td>Secret in Their Eyes</td>\n",
       "      <td>2015</td>\n",
       "      <td>$hutter</td>\n",
       "      <td>actor</td>\n",
       "      <td>2002 Dodger Fan</td>\n",
       "      <td>NaN</td>\n",
       "    </tr>\n",
       "    <tr>\n",
       "      <th>4</th>\n",
       "      <td>Steve Jobs</td>\n",
       "      <td>2015</td>\n",
       "      <td>$hutter</td>\n",
       "      <td>actor</td>\n",
       "      <td>1988 Opera House Patron</td>\n",
       "      <td>NaN</td>\n",
       "    </tr>\n",
       "  </tbody>\n",
       "</table>\n",
       "</div>"
      ],
      "text/plain": [
       "                  title  year      name   type                character     n\n",
       "0        Closet Monster  2015  Buffy #1  actor                  Buffy 4  31.0\n",
       "1       Suuri illusioni  1985    Homo $  actor                   Guests  22.0\n",
       "2   Battle of the Sexes  2017   $hutter  actor          Bobby Riggs Fan  10.0\n",
       "3  Secret in Their Eyes  2015   $hutter  actor          2002 Dodger Fan   NaN\n",
       "4            Steve Jobs  2015   $hutter  actor  1988 Opera House Patron   NaN"
      ]
     },
     "execution_count": 24,
     "metadata": {},
     "output_type": "execute_result"
    }
   ],
   "source": [
    "cast=pd.read_csv('cast.csv')\n",
    "cast.head()"
   ]
  },
  {
   "cell_type": "code",
   "execution_count": 25,
   "id": "a641aaeb",
   "metadata": {},
   "outputs": [
    {
     "name": "stdout",
     "output_type": "stream",
     "text": [
      "Number of roles in the movie 'Inception': 78\n"
     ]
    }
   ],
   "source": [
    "inception_movie = titles[titles['title'] == 'Inception']\n",
    "inception_cast = inception_movie.merge(cast, on='title')\n",
    "num_roles_in_inception = len(inception_cast)\n",
    "print(\"Number of roles in the movie 'Inception':\", num_roles_in_inception)\n"
   ]
  },
  {
   "cell_type": "markdown",
   "id": "25d4745e",
   "metadata": {},
   "source": [
    "But how many roles in the movie \"Inception\" did receive an \"n\" value?"
   ]
  },
  {
   "cell_type": "code",
   "execution_count": 26,
   "id": "a4601881",
   "metadata": {},
   "outputs": [
    {
     "name": "stdout",
     "output_type": "stream",
     "text": [
      "Number of roles in the movie 'Inception' with an 'n' value: 51\n"
     ]
    }
   ],
   "source": [
    "inception_movie = titles[titles['title'] == 'Inception']\n",
    "inception_cast = cast[(cast['title'] == 'Inception') & (cast['n'].notna())]\n",
    "num_roles_with_n_value_in_inception = len(inception_cast)\n",
    "print(\"Number of roles in the movie 'Inception' with an 'n' value:\", num_roles_with_n_value_in_inception)\n"
   ]
  },
  {
   "cell_type": "markdown",
   "id": "e80d7d04",
   "metadata": {},
   "source": [
    "Display the cast of \"North by Northwest\" in their correct \"n\"-value order, ignoring roles that did not earn a numeric \"n\" value."
   ]
  },
  {
   "cell_type": "code",
   "execution_count": 27,
   "id": "4942a04a",
   "metadata": {},
   "outputs": [
    {
     "name": "stdout",
     "output_type": "stream",
     "text": [
      "Cast of 'North by Northwest' in correct 'n'-value order:\n",
      "                         name     n\n",
      "871426             Cary Grant   1.0\n",
      "3518333       Eva Marie Saint   2.0\n",
      "1457165           James Mason   3.0\n",
      "3157232   Jessie Royce Landis   4.0\n",
      "356707         Leo G. Carroll   5.0\n",
      "3048272  Josephine Hutchinson   6.0\n",
      "1695173           Philip Ober   7.0\n",
      "1275337         Martin Landau   8.0\n",
      "2447081         Adam Williams   9.0\n",
      "1811387          Edward Platt  10.0\n",
      "665768      Robert Ellenstein  11.0\n",
      "2295714          Les Tremayne  12.0\n",
      "464736        Philip Coolidge  13.0\n",
      "1508344         Patrick McVey  14.0\n",
      "206471           Edward Binns  15.0\n",
      "1384780             Ken Lynch  16.0\n"
     ]
    }
   ],
   "source": [
    "movie_title = \"North by Northwest\"\n",
    "north_by_northwest_cast = cast[(cast['title'] == movie_title) & (cast['n'].notna())]\n",
    "north_by_northwest_cast_sorted = north_by_northwest_cast.sort_values(by='n')\n",
    "print(\"Cast of 'North by Northwest' in correct 'n'-value order:\")\n",
    "print(north_by_northwest_cast_sorted[['name', 'n']])\n"
   ]
  },
  {
   "cell_type": "markdown",
   "id": "88153b2a",
   "metadata": {},
   "source": [
    "Display the entire cast, in \"n\"-order, of the 1972 film \"Sleuth\""
   ]
  },
  {
   "cell_type": "code",
   "execution_count": 28,
   "id": "0327b85a",
   "metadata": {},
   "outputs": [
    {
     "name": "stdout",
     "output_type": "stream",
     "text": [
      "Cast of 'Sleuth' (1972) in correct 'n'-value order:\n",
      "                       name    n\n",
      "1705394    Laurence Olivier  1.0\n",
      "326773        Michael Caine  2.0\n",
      "373876       Alec Cawthorne  3.0\n",
      "1465483  John (II) Matthews  4.0\n",
      "2724553  Eve (III) Channing  5.0\n",
      "1448690        Teddy Martin  6.0\n"
     ]
    }
   ],
   "source": [
    "movie_title = \"Sleuth\"\n",
    "movie_year = 1972\n",
    "\n",
    "sleuth_cast = cast[(cast['title'] == movie_title) & (cast['year'] == movie_year)]\n",
    "sleuth_cast_sorted = sleuth_cast.sort_values(by='n')\n",
    "print(\"Cast of 'Sleuth' (1972) in correct 'n'-value order:\")\n",
    "print(sleuth_cast_sorted[['name', 'n']])\n"
   ]
  },
  {
   "cell_type": "markdown",
   "id": "c8a1aa80",
   "metadata": {},
   "source": [
    "Now display the entire cast, in \"n\"-order, of the 2007 version of \"Sleuth"
   ]
  },
  {
   "cell_type": "code",
   "execution_count": 29,
   "id": "4fc4a064",
   "metadata": {},
   "outputs": [
    {
     "name": "stdout",
     "output_type": "stream",
     "text": [
      "Cast of 'Sleuth' (2007) in correct 'n'-value order:\n",
      "                        name    n\n",
      "326774         Michael Caine  1.0\n",
      "1293634             Jude Law  2.0\n",
      "1805907        Harold Pinter  3.0\n",
      "260242       Kenneth Branagh  NaN\n",
      "373877   Alec (II) Cawthorne  NaN\n",
      "2724552    Eve (II) Channing  NaN\n",
      "3370424    Carmel O'Sullivan  NaN\n"
     ]
    }
   ],
   "source": [
    "movie_title = \"Sleuth\"\n",
    "movie_year = 2007\n",
    "\n",
    "sleuth_2007_cast = cast[(cast['title'] == movie_title) & (cast['year'] == movie_year)]\n",
    "sleuth_2007_cast_sorted = sleuth_2007_cast.sort_values(by='n')\n",
    "print(\"Cast of 'Sleuth' (2007) in correct 'n'-value order:\")\n",
    "print(sleuth_2007_cast_sorted[['name', 'n']])\n"
   ]
  },
  {
   "cell_type": "markdown",
   "id": "029a6565",
   "metadata": {},
   "source": [
    "How many roles were credited in the silent 1921 version of Hamlet?"
   ]
  },
  {
   "cell_type": "code",
   "execution_count": 30,
   "id": "f359cda0",
   "metadata": {},
   "outputs": [
    {
     "name": "stdout",
     "output_type": "stream",
     "text": [
      "Number of credited roles in the silent 1921 version of 'Hamlet': 9\n"
     ]
    }
   ],
   "source": [
    "movie_title = \"Hamlet\"\n",
    "movie_year = 1921\n",
    "\n",
    "hamlet_1921_cast = cast[(cast['title'] == movie_title) & (cast['year'] == movie_year)]\n",
    "num_roles_in_hamlet_1921 = hamlet_1921_cast['n'].count()\n",
    "print(\"Number of credited roles in the silent 1921 version of 'Hamlet':\", num_roles_in_hamlet_1921)\n"
   ]
  },
  {
   "cell_type": "markdown",
   "id": "8cc666f7",
   "metadata": {},
   "source": [
    "How many roles were credited in Branagh's 1996 Hamlet?"
   ]
  },
  {
   "cell_type": "code",
   "execution_count": 33,
   "id": "32b0c3ec",
   "metadata": {},
   "outputs": [
    {
     "name": "stdout",
     "output_type": "stream",
     "text": [
      "Number of credited roles in Kenneth Branagh's 1996 'Hamlet': 46\n"
     ]
    }
   ],
   "source": [
    "movie_title = \"Hamlet\"\n",
    "movie_year = 1996\n",
    "\n",
    "branagh_hamlet_cast = cast[(cast['title'] == movie_title) & (cast['year'] == movie_year)]\n",
    "num_roles_in_branagh_hamlet = branagh_hamlet_cast['n'].count()\n",
    "print(\"Number of credited roles in Kenneth Branagh's 1996 'Hamlet':\", num_roles_in_branagh_hamlet)\n",
    "                         "
   ]
  },
  {
   "cell_type": "markdown",
   "id": "49f214c2",
   "metadata": {},
   "source": [
    "How many \"Hamlet\" roles have been listed in all film credits through history?"
   ]
  },
  {
   "cell_type": "code",
   "execution_count": null,
   "id": "841e5b13",
   "metadata": {},
   "outputs": [],
   "source": []
  },
  {
   "cell_type": "code",
   "execution_count": 34,
   "id": "ea2da7b3",
   "metadata": {},
   "outputs": [
    {
     "name": "stdout",
     "output_type": "stream",
     "text": [
      "Total number of 'Hamlet' roles listed in all film credits throughout history: 249\n"
     ]
    }
   ],
   "source": [
    "movie_title = \"Hamlet\"\n",
    "\n",
    "hamlet_roles = cast[cast['title'] == movie_title]\n",
    "total_hamlet_roles_count = hamlet_roles['n'].count()\n",
    "print(\"Total number of 'Hamlet' roles listed in all film credits throughout history:\", total_hamlet_roles_count)\n"
   ]
  },
  {
   "cell_type": "markdown",
   "id": "e9ef5ea7",
   "metadata": {},
   "source": [
    "How many people have played an \"Ophelia\"?"
   ]
  },
  {
   "cell_type": "code",
   "execution_count": 35,
   "id": "45cb84f8",
   "metadata": {},
   "outputs": [
    {
     "name": "stdout",
     "output_type": "stream",
     "text": [
      "Number of people who have played the role of 'Ophelia': 115\n"
     ]
    }
   ],
   "source": [
    "ophelia_roles = cast[cast['character'] == 'Ophelia']\n",
    "unique_ophelia_actors_count = ophelia_roles['name'].nunique()\n",
    "print(\"Number of people who have played the role of 'Ophelia':\", unique_ophelia_actors_count)\n"
   ]
  },
  {
   "cell_type": "markdown",
   "id": "2c808123",
   "metadata": {},
   "source": [
    "How many people have played a role called \"The Dude\"?"
   ]
  },
  {
   "cell_type": "code",
   "execution_count": 36,
   "id": "70cc9f42",
   "metadata": {},
   "outputs": [
    {
     "name": "stdout",
     "output_type": "stream",
     "text": [
      "Number of people who have played a role called 'The Dude': 19\n"
     ]
    }
   ],
   "source": [
    "the_dude_roles = cast[cast['character'] == 'The Dude']\n",
    "unique_the_dude_actors_count = the_dude_roles['name'].nunique()\n",
    "print(\"Number of people who have played a role called 'The Dude':\", unique_the_dude_actors_count)\n"
   ]
  },
  {
   "cell_type": "markdown",
   "id": "3cd889a0",
   "metadata": {},
   "source": [
    "How many people have played a role called \"The Stranger\"?"
   ]
  },
  {
   "cell_type": "code",
   "execution_count": 38,
   "id": "9c368260",
   "metadata": {},
   "outputs": [
    {
     "name": "stdout",
     "output_type": "stream",
     "text": [
      "Number of people who have played a role called 'The Stranger': 202\n"
     ]
    }
   ],
   "source": [
    "the_stranger_roles = cast[cast['character'] == 'The Stranger']\n",
    "unique_the_stranger_actors_count = the_stranger_roles['name'].nunique()\n",
    "print(\"Number of people who have played a role called 'The Stranger':\", unique_the_stranger_actors_count)\n",
    "\n"
   ]
  },
  {
   "cell_type": "markdown",
   "id": "aa31e0df",
   "metadata": {},
   "source": [
    "How many roles has Sidney Poitier played throughout his career"
   ]
  },
  {
   "cell_type": "code",
   "execution_count": 39,
   "id": "bd97df27",
   "metadata": {},
   "outputs": [
    {
     "name": "stdout",
     "output_type": "stream",
     "text": [
      "Number of roles Sidney Poitier has played throughout his career: 41\n"
     ]
    }
   ],
   "source": [
    "sidney_poitier_roles = cast[cast['name'] == 'Sidney Poitier']\n",
    "total_sidney_poitier_roles_count = sidney_poitier_roles['character'].nunique()\n",
    "print(\"Number of roles Sidney Poitier has played throughout his career:\", total_sidney_poitier_roles_count)\n"
   ]
  },
  {
   "cell_type": "markdown",
   "id": "304bba31",
   "metadata": {},
   "source": [
    "How many roles has Judi Dench played?"
   ]
  },
  {
   "cell_type": "code",
   "execution_count": 40,
   "id": "f0f34df8",
   "metadata": {},
   "outputs": [
    {
     "name": "stdout",
     "output_type": "stream",
     "text": [
      "Number of roles Judi Dench has played throughout her career: 46\n"
     ]
    }
   ],
   "source": [
    "judi_dench_roles = cast[cast['name'] == 'Judi Dench']\n",
    "total_judi_dench_roles_count = judi_dench_roles['character'].nunique()\n",
    "print(\"Number of roles Judi Dench has played throughout her career:\", total_judi_dench_roles_count)\n"
   ]
  },
  {
   "cell_type": "markdown",
   "id": "6e6ef1b0",
   "metadata": {},
   "source": [
    "list the supporting roles (having n=2) played by Cary Grant in the 1940s, in order by year."
   ]
  },
  {
   "cell_type": "code",
   "execution_count": 41,
   "id": "e946bf09",
   "metadata": {},
   "outputs": [
    {
     "name": "stdout",
     "output_type": "stream",
     "text": [
      "Cary Grant's supporting roles (n=2) in the 1940s, in order by year:\n",
      "        year    character\n",
      "871423  1940   Nick Arden\n",
      "871433  1941  Roger Adams\n"
     ]
    }
   ],
   "source": [
    "cary_grant_supporting_roles_1940s = cast[(cast['name'] == 'Cary Grant') & (cast['n'] == 2) & (cast['year'] >= 1940) & (cast['year'] <= 1949)]\n",
    "cary_grant_supporting_roles_1940s_sorted = cary_grant_supporting_roles_1940s.sort_values(by='year')\n",
    "print(\"Cary Grant's supporting roles (n=2) in the 1940s, in order by year:\")\n",
    "print(cary_grant_supporting_roles_1940s_sorted[['year', 'character']])\n"
   ]
  },
  {
   "cell_type": "markdown",
   "id": "7b383147",
   "metadata": {},
   "source": [
    "ist the leading roles that Cary Grant played in the 1940s in order by year."
   ]
  },
  {
   "cell_type": "code",
   "execution_count": 42,
   "id": "ffde7aa3",
   "metadata": {},
   "outputs": [
    {
     "name": "stdout",
     "output_type": "stream",
     "text": [
      "Cary Grant's leading roles (n=1) in the 1940s, in order by year:\n",
      "        year                             character\n",
      "871448  1940                           Matt Howard\n",
      "871407  1940                          Walter Burns\n",
      "871450  1940                    C. K. Dexter Haven\n",
      "871438  1941                      Johnnie Aysgarth\n",
      "871452  1942                          Leopold Dilg\n",
      "871429  1942                 Patrick 'Pat' O'Toole\n",
      "871398  1943                         Capt. Cassidy\n",
      "871422  1943  Joe Adams -posing as Joe Bascopolous\n",
      "871430  1944                           Jerry Flynn\n",
      "871390  1944                     Mortimer Brewster\n",
      "871425  1944                            Ernie Mott\n",
      "871424  1946                           Cole Porter\n",
      "871427  1946                                Devlin\n",
      "871444  1947                           Dick Nugent\n",
      "871445  1947                                Dudley\n",
      "871421  1948                         Jim Blandings\n",
      "871402  1948                     Dr. Madison Brown\n",
      "871411  1949                 Captain Henri Rochard\n"
     ]
    }
   ],
   "source": [
    "cary_grant_leading_roles_1940s = cast[(cast['name'] == 'Cary Grant') & (cast['n'] == 1) & (cast['year'] >= 1940) & (cast['year'] <= 1949)]\n",
    "cary_grant_leading_roles_1940s_sorted = cary_grant_leading_roles_1940s.sort_values(by='year')\n",
    "print(\"Cary Grant's leading roles (n=1) in the 1940s, in order by year:\")\n",
    "print(cary_grant_leading_roles_1940s_sorted[['year', 'character']])\n"
   ]
  },
  {
   "cell_type": "markdown",
   "id": "4ea78052",
   "metadata": {},
   "source": [
    "How many roles were available for actors in the 1950s?"
   ]
  },
  {
   "cell_type": "code",
   "execution_count": 45,
   "id": "66fb69e2",
   "metadata": {},
   "outputs": [
    {
     "name": "stdout",
     "output_type": "stream",
     "text": [
      "Number of roles available for actors in the 1950s: 157738\n"
     ]
    }
   ],
   "source": [
    "actor_roles_in_1950s = cast[(cast['year'] >= 1950) & (cast['year'] <= 1959) & (cast['type'] == 'actor')]\n",
    "total_actor_roles_in_1950s = actor_roles_in_1950s.shape[0]\n",
    "print(\"Number of roles available for actors in the 1950s:\", total_actor_roles_in_1950s)\n"
   ]
  },
  {
   "cell_type": "markdown",
   "id": "5508acf0",
   "metadata": {},
   "source": [
    "How many roles were available for actresses in the 1950s?"
   ]
  },
  {
   "cell_type": "code",
   "execution_count": 44,
   "id": "016e2210",
   "metadata": {},
   "outputs": [
    {
     "name": "stdout",
     "output_type": "stream",
     "text": [
      "Number of roles available for actresses in the 1950s: 57733\n"
     ]
    }
   ],
   "source": [
    "actress_roles_in_1950s = cast[(cast['year'] >= 1950) & (cast['year'] <= 1959) & (cast['type'] == 'actress')]\n",
    "total_actress_roles_in_1950s = actress_roles_in_1950s.shape[0]\n",
    "print(\"Number of roles available for actresses in the 1950s:\", total_actress_roles_in_1950s)\n"
   ]
  },
  {
   "cell_type": "code",
   "execution_count": null,
   "id": "785ebffe",
   "metadata": {},
   "outputs": [],
   "source": [
    "How many leading roles (n=1) were available from the beginning of film history through 1980?"
   ]
  },
  {
   "cell_type": "code",
   "execution_count": 46,
   "id": "307e5f5c",
   "metadata": {},
   "outputs": [
    {
     "name": "stdout",
     "output_type": "stream",
     "text": [
      "Number of leading roles (n=1) available from the beginning of film history through 1980: 65140\n"
     ]
    }
   ],
   "source": [
    "leading_roles_until_1980 = cast[(cast['year'] <= 1980) & (cast['n'] == 1)]\n",
    "total_leading_roles_until_1980 = leading_roles_until_1980.shape[0]\n",
    "print(\"Number of leading roles (n=1) available from the beginning of film history through 1980:\", total_leading_roles_until_1980)\n"
   ]
  },
  {
   "cell_type": "markdown",
   "id": "6cc2d778",
   "metadata": {},
   "source": [
    "How many non-leading roles were available through from the beginning of film history through 1980?"
   ]
  },
  {
   "cell_type": "code",
   "execution_count": 47,
   "id": "f2192dd1",
   "metadata": {},
   "outputs": [
    {
     "name": "stdout",
     "output_type": "stream",
     "text": [
      "Number of non-leading roles (n is not equal to 1) available from the beginning of film history through 1980: 1117667\n"
     ]
    }
   ],
   "source": [
    "non_leading_roles_until_1980 = cast[(cast['year'] <= 1980) & (cast['n'] != 1)]\n",
    "total_non_leading_roles_until_1980 = non_leading_roles_until_1980.shape[0]\n",
    "print(\"Number of non-leading roles (n is not equal to 1) available from the beginning of film history through 1980:\", total_non_leading_roles_until_1980)\n"
   ]
  },
  {
   "cell_type": "markdown",
   "id": "676ac737",
   "metadata": {},
   "source": [
    "How many roles through 1980 were minor enough that they did not\n",
    "\n",
    "warrant a numeric \"n\" rank?"
   ]
  },
  {
   "cell_type": "code",
   "execution_count": 48,
   "id": "50395c5d",
   "metadata": {},
   "outputs": [
    {
     "name": "stdout",
     "output_type": "stream",
     "text": [
      "Number of roles through 1980 without a numeric 'n' rank: 448347\n"
     ]
    }
   ],
   "source": [
    "roles_without_n_rank_until_1980 = cast[(cast['year'] <= 1980) & (cast['n'].isna())]\n",
    "total_roles_without_n_rank_until_1980 = roles_without_n_rank_until_1980.shape[0]\n",
    "print(\"Number of roles through 1980 without a numeric 'n' rank:\", total_roles_without_n_rank_until_1980)\n"
   ]
  },
  {
   "cell_type": "code",
   "execution_count": null,
   "id": "e2b691f8",
   "metadata": {},
   "outputs": [],
   "source": []
  }
 ],
 "metadata": {
  "kernelspec": {
   "display_name": "Python 3 (ipykernel)",
   "language": "python",
   "name": "python3"
  },
  "language_info": {
   "codemirror_mode": {
    "name": "ipython",
    "version": 3
   },
   "file_extension": ".py",
   "mimetype": "text/x-python",
   "name": "python",
   "nbconvert_exporter": "python",
   "pygments_lexer": "ipython3",
   "version": "3.11.4"
  }
 },
 "nbformat": 4,
 "nbformat_minor": 5
}
