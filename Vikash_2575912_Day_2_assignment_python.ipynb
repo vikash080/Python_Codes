{
 "cells": [
  {
   "cell_type": "markdown",
   "id": "2eb8f241",
   "metadata": {},
   "source": [
    "# ------------Day 2------------"
   ]
  },
  {
   "cell_type": "markdown",
   "id": "f60351dc",
   "metadata": {},
   "source": [
    "# 1."
   ]
  },
  {
   "cell_type": "code",
   "execution_count": 4,
   "id": "567b41d3",
   "metadata": {},
   "outputs": [
    {
     "name": "stdout",
     "output_type": "stream",
     "text": [
      "List of even no are :  [72, 76, 94, 90, 20]\n",
      "List of even no are :  [43, 65, 53, 75]\n"
     ]
    }
   ],
   "source": [
    "lst = [43,65,72,76,94,90,53,75,20]\n",
    "lst\n",
    "ev=[]\n",
    "od=[]\n",
    "for i in range(len(lst)):\n",
    "    if lst[i]%2==0:\n",
    "        ev.append(lst[i])\n",
    "    else:\n",
    "        od.append(lst[i])\n",
    "print ('List of even no are : ', ev)\n",
    "print ('List of even no are : ', od)"
   ]
  },
  {
   "cell_type": "markdown",
   "id": "c0ad1bbb",
   "metadata": {},
   "source": [
    "# 2."
   ]
  },
  {
   "cell_type": "code",
   "execution_count": 15,
   "id": "0e56aea7",
   "metadata": {},
   "outputs": [
    {
     "name": "stdout",
     "output_type": "stream",
     "text": [
      "Enter the no of value 8\n",
      "Enter 0 value19\n",
      "Enter 1 value6\n",
      "Enter 2 value9\n",
      "Enter 3 value20\n",
      "Enter 4 value13\n",
      "Enter 5 value7\n",
      "Enter 6 value6\n",
      "3\n"
     ]
    }
   ],
   "source": [
    "num = []\n",
    "n=int(input('Enter the no of value '))\n",
    "for i in range(0,n-1):\n",
    "    number =int(input('Enter {} value'.format(i)))\n",
    "    num.append(number)\n",
    "\n",
    "count =0\n",
    "    \n",
    "for i in range(len(num)):\n",
    "    if(num[i]%2==0):\n",
    "        count+=1\n",
    "        \n",
    "print(count)"
   ]
  },
  {
   "cell_type": "markdown",
   "id": "fb2e0bf7",
   "metadata": {},
   "source": [
    "# 3."
   ]
  },
  {
   "cell_type": "code",
   "execution_count": 24,
   "id": "b9b6ed2b",
   "metadata": {},
   "outputs": [
    {
     "name": "stdout",
     "output_type": "stream",
     "text": [
      "Enter a number : \n",
      "6\n",
      "3.0\n",
      "10.0\n",
      "5.0\n",
      "16.0\n",
      "8.0\n",
      "4.0\n",
      "2.0\n",
      "1.0\n",
      "1.0\n"
     ]
    }
   ],
   "source": [
    "def even_odd(n):\n",
    "    \n",
    "        while(n>=1):\n",
    "            if(n==1):\n",
    "                print(n)\n",
    "                break\n",
    "            elif n%2==0:\n",
    "                n= n/2\n",
    "                print(n)\n",
    "            else:\n",
    "                n=((3*n)+1)\n",
    "                print(n)\n",
    "           \n",
    "    \n",
    "print('Enter a number : ')\n",
    "n = int(input())\n",
    "even_odd(n)"
   ]
  },
  {
   "cell_type": "markdown",
   "id": "4fe5e446",
   "metadata": {},
   "source": [
    "# 4."
   ]
  },
  {
   "cell_type": "code",
   "execution_count": 25,
   "id": "d20436e6",
   "metadata": {},
   "outputs": [
    {
     "name": "stdout",
     "output_type": "stream",
     "text": [
      "57918\n"
     ]
    }
   ],
   "source": [
    "sum = 0\n",
    "for i in range (1,500):\n",
    "    if i%3==0 or i%5==0:\n",
    "        sum = sum+i\n",
    "        \n",
    "print(sum)"
   ]
  },
  {
   "cell_type": "markdown",
   "id": "53a2bbd6",
   "metadata": {},
   "source": [
    "# 5."
   ]
  },
  {
   "cell_type": "code",
   "execution_count": 61,
   "id": "c88ad89b",
   "metadata": {},
   "outputs": [
    {
     "name": "stdout",
     "output_type": "stream",
     "text": [
      "Enter the value of N: 5\n",
      "The first 5 prime numbers from the list are: [2, 3, 5, 7, 23]\n"
     ]
    }
   ],
   "source": [
    "def is_prime(num):\n",
    "    if num <= 1:\n",
    "        return False\n",
    "    for i in range(2, num):\n",
    "        if num % i == 0:\n",
    "            return False\n",
    "    return True\n",
    "\n",
    "def find_n_primes_from_list(numbers, n):\n",
    "    prime_numbers = []\n",
    "    num = 2\n",
    "    while len(prime_numbers) < n:\n",
    "        if is_prime(num) and num in numbers:\n",
    "            prime_numbers.append(num)\n",
    "        num += 1\n",
    "    return prime_numbers\n",
    "\n",
    "\n",
    "given_numbers = [2, 3, 4, 5, 6, 7, 8, 9, 12,23,34,45,56,67,78,89] \n",
    "N = int(input(\"Enter the value of N: \"))\n",
    "prime_list = find_n_primes_from_list(given_numbers, N)\n",
    "print(f\"The first {N} prime numbers from the list are: {prime_list}\")\n",
    "        \n",
    "    "
   ]
  },
  {
   "cell_type": "markdown",
   "id": "6afa73a9",
   "metadata": {},
   "source": [
    "# 6."
   ]
  },
  {
   "cell_type": "code",
   "execution_count": 6,
   "id": "5659d11a",
   "metadata": {},
   "outputs": [
    {
     "ename": "NameError",
     "evalue": "name 'A' is not defined",
     "output_type": "error",
     "traceback": [
      "\u001b[1;31m---------------------------------------------------------------------------\u001b[0m",
      "\u001b[1;31mNameError\u001b[0m                                 Traceback (most recent call last)",
      "Cell \u001b[1;32mIn[6], line 24\u001b[0m\n\u001b[0;32m     18\u001b[0m \u001b[38;5;66;03m# take a 3x4 matrix\u001b[39;00m\n\u001b[0;32m     19\u001b[0m mat2 \u001b[38;5;241m=\u001b[39m [[\u001b[38;5;241m5\u001b[39m, \u001b[38;5;241m8\u001b[39m, \u001b[38;5;241m1\u001b[39m, \u001b[38;5;241m2\u001b[39m],\n\u001b[0;32m     20\u001b[0m     [\u001b[38;5;241m6\u001b[39m, \u001b[38;5;241m7\u001b[39m, \u001b[38;5;241m3\u001b[39m, \u001b[38;5;241m0\u001b[39m],\n\u001b[0;32m     21\u001b[0m     [\u001b[38;5;241m4\u001b[39m, \u001b[38;5;241m5\u001b[39m, \u001b[38;5;241m9\u001b[39m, \u001b[38;5;241m1\u001b[39m]]\n\u001b[0;32m     22\u001b[0m result \u001b[38;5;241m=\u001b[39m [[\u001b[38;5;28msum\u001b[39m(a \u001b[38;5;241m*\u001b[39m b \u001b[38;5;28;01mfor\u001b[39;00m a, b \u001b[38;5;129;01min\u001b[39;00m \u001b[38;5;28mzip\u001b[39m(A_row, B_col))\n\u001b[0;32m     23\u001b[0m                         \u001b[38;5;28;01mfor\u001b[39;00m B_col \u001b[38;5;129;01min\u001b[39;00m \u001b[38;5;28mzip\u001b[39m(\u001b[38;5;241m*\u001b[39mB)]\n\u001b[1;32m---> 24\u001b[0m                                 \u001b[38;5;28;01mfor\u001b[39;00m A_row \u001b[38;5;129;01min\u001b[39;00m A]\n\u001b[0;32m     26\u001b[0m \u001b[38;5;28;01mfor\u001b[39;00m r \u001b[38;5;129;01min\u001b[39;00m result:\n\u001b[0;32m     27\u001b[0m     \u001b[38;5;28mprint\u001b[39m(r)\n",
      "\u001b[1;31mNameError\u001b[0m: name 'A' is not defined"
     ]
    }
   ],
   "source": [
    "\"\"\"def matrix_mul():\n",
    "    if(len(mat1) != len(mat2)):\n",
    "        return 'Not Possible'\n",
    "    \n",
    "    result[]\n",
    "    \n",
    "    for i in range (0, len(mat1)):\n",
    "        for j in range(0, len(mat2)):\n",
    "            for k in range(0, len(mat1)):\n",
    "                result[i][j] = mat[i][j]*mat[i][j]\n",
    "    return result\"\"\"\n",
    "\n",
    "# take a 3x3 matrix\n",
    "mat1 = [[12, 7, 3],\n",
    "    [4, 5, 6],\n",
    "    [7, 8, 9]]\n",
    " \n",
    "# take a 3x4 matrix\n",
    "mat2 = [[5, 8, 1, 2],\n",
    "    [6, 7, 3, 0],\n",
    "    [4, 5, 9, 1]]\n",
    "result = [[sum(a * b for a, b in zip(A_row, B_col))\n",
    "                        for B_col in zip(*B)]\n",
    "                                for A_row in A]\n",
    " \n",
    "for r in result:\n",
    "    print(r)\n",
    "                \n",
    "                "
   ]
  },
  {
   "cell_type": "markdown",
   "id": "38f1e7d6",
   "metadata": {},
   "source": [
    "# 7."
   ]
  },
  {
   "cell_type": "code",
   "execution_count": null,
   "id": "0eb3f621",
   "metadata": {},
   "outputs": [],
   "source": [
    "def count_vowels(string):\n",
    "\n",
    "    vowels = set(\"aeiouAEIOU\")\n",
    "\n",
    "    vowel_count = 0\n",
    "\n",
    "    for char in string:\n",
    "\n",
    "        if char in vowels:\n",
    "            vowel_count += 1\n",
    "    \n",
    "    return vowel_count\n",
    "\n",
    "input_string = input(\"Enter a string: \")\n",
    "result = count_vowels(input_string)\n",
    "print(\"Number of vowels in the string:\", result)\n"
   ]
  },
  {
   "cell_type": "markdown",
   "id": "6cef7e1a",
   "metadata": {},
   "source": [
    "# 8."
   ]
  },
  {
   "cell_type": "code",
   "execution_count": 1,
   "id": "f5a2393d",
   "metadata": {},
   "outputs": [
    {
     "data": {
      "text/plain": [
       "3628800"
      ]
     },
     "execution_count": 1,
     "metadata": {},
     "output_type": "execute_result"
    }
   ],
   "source": [
    "def no_negative_arguents(decorated_fn):\n",
    "    def check_non_negative(arg):\n",
    "        if arg<0:\n",
    "            raise ValueError('Input arg cant be negetive')\n",
    "        return decorated_fn(arg)\n",
    "    return check_non_negative\n",
    "\n",
    "@no_negative_arguents\n",
    "def fact(n):\n",
    "    if n==1:\n",
    "        return n\n",
    "    else:\n",
    "        return n*fact(n-1)\n",
    "\n",
    "fact(10)"
   ]
  },
  {
   "cell_type": "markdown",
   "id": "2831c070",
   "metadata": {},
   "source": [
    "# 9."
   ]
  },
  {
   "cell_type": "code",
   "execution_count": 2,
   "id": "5c37ac78",
   "metadata": {},
   "outputs": [
    {
     "name": "stdout",
     "output_type": "stream",
     "text": [
      "any num pl: 5\n",
      "Enter the no : 3\n"
     ]
    },
    {
     "data": {
      "text/plain": [
       "<generator object fib at 0x0000018896AF4740>"
      ]
     },
     "execution_count": 2,
     "metadata": {},
     "output_type": "execute_result"
    }
   ],
   "source": [
    "a = int (input('any num pl: '))\n",
    "def fib(n):\n",
    "    a,f= 0,1\n",
    "    while 1:\n",
    "        yield a \n",
    "        a , b=b , a+b\n",
    "\n",
    "n = int(input('Enter the no : '))\n",
    "fib(n)"
   ]
  },
  {
   "cell_type": "markdown",
   "id": "f00f5125",
   "metadata": {},
   "source": [
    "# 10."
   ]
  },
  {
   "cell_type": "code",
   "execution_count": 7,
   "id": "014ce708",
   "metadata": {},
   "outputs": [
    {
     "name": "stdout",
     "output_type": "stream",
     "text": [
      "Enter an integer: 3456\n",
      "Reversed integer: 6543\n"
     ]
    }
   ],
   "source": [
    "def reverse_integer(num):\n",
    "\n",
    "    num_str = str(num)\n",
    "\n",
    "    reversed_str = \"\"\n",
    "\n",
    "    for i in range(len(num_str) - 1, -1, -1):\n",
    "        reversed_str += num_str[i]\n",
    "\n",
    "\n",
    "    reversed_num = int(reversed_str)\n",
    "\n",
    "    return reversed_num\n",
    "\n",
    "\n",
    "num = int(input(\"Enter an integer: \"))\n",
    "\n",
    "\n",
    "reversed_num = reverse_integer(num)\n",
    "print(\"Reversed integer:\", reversed_num)\n"
   ]
  },
  {
   "cell_type": "markdown",
   "id": "ddec4e59",
   "metadata": {},
   "source": [
    "# 11."
   ]
  },
  {
   "cell_type": "code",
   "execution_count": 8,
   "id": "efd6e960",
   "metadata": {},
   "outputs": [
    {
     "name": "stdout",
     "output_type": "stream",
     "text": [
      "200\n",
      "202\n",
      "204\n",
      "206\n",
      "208\n",
      "211\n",
      "213\n",
      "215\n",
      "217\n",
      "219\n",
      "220\n",
      "222\n",
      "224\n",
      "226\n",
      "228\n",
      "231\n",
      "233\n",
      "235\n",
      "237\n",
      "239\n",
      "240\n",
      "242\n",
      "244\n",
      "246\n",
      "248\n",
      "251\n",
      "253\n",
      "255\n",
      "257\n",
      "259\n",
      "260\n",
      "262\n",
      "264\n",
      "266\n",
      "268\n",
      "271\n",
      "273\n",
      "275\n",
      "277\n",
      "279\n",
      "280\n",
      "282\n",
      "284\n",
      "286\n",
      "288\n",
      "291\n",
      "293\n",
      "295\n",
      "297\n",
      "299\n"
     ]
    }
   ],
   "source": [
    "def sum_of_digits_even(num):\n",
    "    digit_sum = 0\n",
    "\n",
    "    num_str = str(num)\n",
    "\n",
    "    for digit in num_str:\n",
    "        digit_sum += int(digit)\n",
    "\n",
    "    if digit_sum % 2 == 0:\n",
    "        return True\n",
    "    else:\n",
    "        return False\n",
    "\n",
    "for num in range(200, 301):\n",
    "    if sum_of_digits_even(num):\n",
    "        print(num)\n"
   ]
  },
  {
   "cell_type": "markdown",
   "id": "ed6411fd",
   "metadata": {},
   "source": [
    "# 12."
   ]
  },
  {
   "cell_type": "code",
   "execution_count": 9,
   "id": "f799b36a",
   "metadata": {},
   "outputs": [
    {
     "name": "stdout",
     "output_type": "stream",
     "text": [
      "Enter an integer: 34\n",
      "Number of digits: 2\n",
      "Sum of digits: 7\n"
     ]
    }
   ],
   "source": [
    "def count_digits_and_sum(num):\n",
    "\n",
    "    digit_count = 0\n",
    "    digit_sum = 0\n",
    "\n",
    "    num = abs(num)\n",
    "\n",
    "    while num > 0:\n",
    "\n",
    "        digit = num % 10\n",
    "\n",
    "        digit_count += 1\n",
    "\n",
    "        digit_sum += digit\n",
    "\n",
    "        num //= 10\n",
    "    \n",
    "    return digit_count, digit_sum\n",
    "\n",
    "num = int(input(\"Enter an integer: \"))\n",
    "\n",
    "count, sum_of_digits = count_digits_and_sum(num)\n",
    "\n",
    "print(\"Number of digits:\", count)\n",
    "print(\"Sum of digits:\", sum_of_digits)\n"
   ]
  },
  {
   "cell_type": "markdown",
   "id": "dd9debf5",
   "metadata": {},
   "source": [
    "# 13."
   ]
  },
  {
   "cell_type": "code",
   "execution_count": 10,
   "id": "25e4eec7",
   "metadata": {},
   "outputs": [
    {
     "name": "stdout",
     "output_type": "stream",
     "text": [
      "Is the list sorted: True\n",
      "Does the list have duplicates: True\n"
     ]
    }
   ],
   "source": [
    "def is_sorted(lst):\n",
    "\n",
    "    for i in range(1, len(lst)):\n",
    "        if lst[i] < lst[i - 1]:\n",
    "            return False\n",
    "    return True\n",
    "\n",
    "def has_duplicates(lst):\n",
    "    unique_elements = set()\n",
    "    \n",
    "    for item in lst:\n",
    "        if item in unique_elements:\n",
    "            return True\n",
    "        else:\n",
    "            unique_elements.add(item)\n",
    "    \n",
    "    return False\n",
    "\n",
    "my_list = [1, 2, 3, 3, 4, 5]\n",
    "sorted_result = is_sorted(my_list)\n",
    "print(\"Is the list sorted:\", sorted_result)\n",
    "\n",
    "has_duplicates_result = has_duplicates(my_list)\n",
    "print(\"Does the list have duplicates:\", has_duplicates_result)\n"
   ]
  },
  {
   "cell_type": "markdown",
   "id": "97429393",
   "metadata": {},
   "source": [
    "# 14."
   ]
  },
  {
   "cell_type": "code",
   "execution_count": 11,
   "id": "e42da0bc",
   "metadata": {},
   "outputs": [
    {
     "name": "stdout",
     "output_type": "stream",
     "text": [
      "Sum of elements from nested lists: 28\n",
      "Cumulative sum of the list: [1, 3, 6, 10, 15]\n"
     ]
    }
   ],
   "source": [
    "def nested_sum(lst):\n",
    "\n",
    "    total_sum = 0\n",
    "\n",
    "    for item in lst:\n",
    "\n",
    "        if isinstance(item, list):\n",
    "\n",
    "            total_sum += nested_sum(item)\n",
    "        else:\n",
    "\n",
    "            total_sum += item\n",
    "    \n",
    "    return total_sum\n",
    "\n",
    "def cumsum(numbers):\n",
    "\n",
    "    cumulative_sum = 0\n",
    "\n",
    "    result = []\n",
    "    \n",
    "\n",
    "    for num in numbers:\n",
    "\n",
    "        cumulative_sum += num\n",
    "\n",
    "        result.append(cumulative_sum)\n",
    "    \n",
    "    return result\n",
    "\n",
    "nested_list = [1, 2, [3, 4, [5, 6]], 7]\n",
    "nested_sum_result = nested_sum(nested_list)\n",
    "print(\"Sum of elements from nested lists:\", nested_sum_result)\n",
    "\n",
    "number_list = [1, 2, 3, 4, 5]\n",
    "cumulative_sum_result = cumsum(number_list)\n",
    "print(\"Cumulative sum of the list:\", cumulative_sum_result)\n"
   ]
  },
  {
   "cell_type": "code",
   "execution_count": null,
   "id": "cd661c1a",
   "metadata": {},
   "outputs": [],
   "source": []
  }
 ],
 "metadata": {
  "kernelspec": {
   "display_name": "Python 3 (ipykernel)",
   "language": "python",
   "name": "python3"
  },
  "language_info": {
   "codemirror_mode": {
    "name": "ipython",
    "version": 3
   },
   "file_extension": ".py",
   "mimetype": "text/x-python",
   "name": "python",
   "nbconvert_exporter": "python",
   "pygments_lexer": "ipython3",
   "version": "3.11.4"
  }
 },
 "nbformat": 4,
 "nbformat_minor": 5
}
