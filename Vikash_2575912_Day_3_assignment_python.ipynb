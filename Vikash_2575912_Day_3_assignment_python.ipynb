{
 "cells": [
  {
   "cell_type": "markdown",
   "id": "5f8e8701",
   "metadata": {},
   "source": [
    "# File Handling Solutions "
   ]
  },
  {
   "cell_type": "markdown",
   "id": "2a197c87",
   "metadata": {},
   "source": [
    "# 1."
   ]
  },
  {
   "cell_type": "code",
   "execution_count": null,
   "id": "266b1a92",
   "metadata": {},
   "outputs": [],
   "source": [
    "file = open ('abc.txt' , 'a')\n",
    "file.write('My name is vikash kumar \\n I live in bangaluru currently \\n and lerning python')"
   ]
  },
  {
   "cell_type": "code",
   "execution_count": 2,
   "id": "3d4963e6",
   "metadata": {},
   "outputs": [],
   "source": [
    "file.close()"
   ]
  },
  {
   "cell_type": "code",
   "execution_count": 3,
   "id": "afd16eaa",
   "metadata": {},
   "outputs": [],
   "source": [
    "file = open('bcd.txt','w')\n",
    "file.close()"
   ]
  },
  {
   "cell_type": "code",
   "execution_count": 73,
   "id": "083f0f36",
   "metadata": {},
   "outputs": [],
   "source": [
    "def done():\n",
    "    file = open('abc.txt','r')\n",
    "    a = file.read(50)\n",
    "\n",
    "    file = open('bcd.txt' , 'w')\n",
    "    file.write(a)\n",
    "\n",
    "    file.close()\n",
    "done()"
   ]
  },
  {
   "cell_type": "markdown",
   "id": "55b32231",
   "metadata": {},
   "source": [
    "# 2."
   ]
  },
  {
   "cell_type": "code",
   "execution_count": 49,
   "id": "ef34af2d",
   "metadata": {},
   "outputs": [
    {
     "name": "stdout",
     "output_type": "stream",
     "text": [
      "0\n",
      "0\n",
      "0\n",
      "1\n",
      "0\n",
      "0\n",
      "0\n",
      "2\n",
      "0\n",
      "0\n",
      "0\n",
      "3\n",
      "0\n",
      "0\n",
      "0\n",
      "4\n",
      "Total no of space in the file :  9\n"
     ]
    }
   ],
   "source": [
    "def count_no():\n",
    "    count =0\n",
    "    with open('example.txt' , 'r') as f:\n",
    "        content = f.read()\n",
    "        for i in content:\n",
    "            if i.isnumeric():\n",
    "                print(i)\n",
    "            elif i.isspace():\n",
    "                count += 1\n",
    "    print('Total no of space in the file : ', count)\n",
    "count_no()"
   ]
  },
  {
   "cell_type": "markdown",
   "id": "7a5b87c8",
   "metadata": {},
   "source": [
    "# 3."
   ]
  },
  {
   "cell_type": "code",
   "execution_count": 85,
   "id": "f3231a5e",
   "metadata": {},
   "outputs": [],
   "source": [
    "def sed(str1,str2,file1,file2):\n",
    "    try:\n",
    "        with open(file1, 'r')as file:\n",
    "            info = file.read()\n",
    "            \n",
    "            new_info = info.replace(str1,str2)\n",
    "            \n",
    "        with open(file2, 'w')as f:\n",
    "            f.write(new_info)\n",
    "            \n",
    "    except:\n",
    "        print('File not found')\n",
    "        \n",
    "        \n",
    "sed('bangaluru' , 'Ranchi' , 'abc.txt' , 'bcd.txt')"
   ]
  },
  {
   "cell_type": "markdown",
   "id": "7a72f9d4",
   "metadata": {},
   "source": [
    "# 4."
   ]
  },
  {
   "cell_type": "code",
   "execution_count": 132,
   "id": "0663be1b",
   "metadata": {},
   "outputs": [
    {
     "name": "stdout",
     "output_type": "stream",
     "text": [
      "Website Name: ['www.three.com']\n",
      "IP Name: ['10.15.101.11', '10.14.101.11', '1.10.11.71', '10.15.11.61', '10.10.11.51', '10.20.13.11', '10.20.14.41', '10.10.11.14', '10.10.11.31', '10.10.13.144', '10.50.11.141', '120.10.11.11', '10.144.11.11', '10.103.141.141']\n"
     ]
    }
   ],
   "source": [
    "import re\n",
    "\n",
    "file_name_pattern = r'[A-Za-z0-9.]+'  #['website','ip_add','ph_no','type_data','min_watch']\n",
    "\n",
    "web_name_pattern=r'^(\\S+)\\s'\n",
    "ip_add_pattern=r'\\b(?:[0-9]{1,3}\\.){3}[0-9]{1,3}\\b'\n",
    "with open('sample.log', 'r') as log_file:\n",
    "\n",
    "    log_contents = log_file.read()\n",
    "\n",
    "    website_name = re.findall(web_name_pattern, log_contents)\n",
    "    ip_add = re.findall(ip_add_pattern, log_contents)\n",
    "\n",
    "#for file_name in file_names:\n",
    "    print(\"Website Name:\", website_name)\n",
    "    \n",
    "print(\"IP Name:\", ip_add)\n"
   ]
  },
  {
   "cell_type": "markdown",
   "id": "908d8eca",
   "metadata": {},
   "source": [
    "# 5."
   ]
  },
  {
   "cell_type": "code",
   "execution_count": 160,
   "id": "0d63abb0",
   "metadata": {},
   "outputs": [],
   "source": [
    "def word_replace(a,b):\n",
    "    with open('gen_ai.txt' , 'r')as file:\n",
    "        count =0\n",
    "        content = file.read()\n",
    "        \n",
    "        fresh_content = content.replace(a,b)\n",
    "        \n",
    "    with open('gen_ai.txt' , 'w')as f:\n",
    "        conten= f.write(fresh_content)\n",
    "                \n",
    "\n",
    "word_replace('of','CHANGED')\n"
   ]
  },
  {
   "cell_type": "code",
   "execution_count": 163,
   "id": "75c1b148",
   "metadata": {},
   "outputs": [
    {
     "data": {
      "text/plain": [
       "'Lorem Ipsum is simply dummy text CHANGED the printing and typesetting industry. Lorem Ipsum has been the industrys standard dummy text ever since the 1500s, when an unknown printer took a galley CHANGED type and scrambled it to make a type specimen book. It has survived not only five centuries, but also the leap into electronic typesetting, remaining essentially unchanged. It was popularised in the 1960s with the release CHANGED Letraset sheets containing Lorem Ipsum passages, and more recently with desktop publishing sCHANGEDtware like Aldus PageMaker including versions CHANGED Lorem Ipsum.'"
      ]
     },
     "execution_count": 163,
     "metadata": {},
     "output_type": "execute_result"
    }
   ],
   "source": [
    "file = open('gen_ai.txt' , 'r')\n",
    "file.read()"
   ]
  },
  {
   "cell_type": "code",
   "execution_count": 164,
   "id": "23d8ffe0",
   "metadata": {},
   "outputs": [],
   "source": [
    "file.close()"
   ]
  },
  {
   "cell_type": "markdown",
   "id": "e8a38107",
   "metadata": {},
   "source": [
    "# 6."
   ]
  },
  {
   "cell_type": "code",
   "execution_count": null,
   "id": "987c7552",
   "metadata": {},
   "outputs": [],
   "source": [
    "num_files = int(input(\"Enter the number of input files: \"))\n",
    "    input_files = []\n",
    "    for i in range(num_files):\n",
    "        file_name = input(f\"Enter the name of input file {i + 1}: \")\n",
    "        input_files.append(file_name)\n",
    "\n",
    "    \n",
    "    output_file_name = input(\"Enter the name of the output file: \")\n",
    "\n",
    "    \n",
    "    with open(output_file_name, 'w') as output_file:\n",
    "        \n",
    "        for input_file_name in input_files:\n",
    "            \n",
    "            with open(input_file_name, 'r') as input_file:\n",
    "                output_file.write(input_file.read())"
   ]
  },
  {
   "cell_type": "markdown",
   "id": "3cf3f920",
   "metadata": {},
   "source": [
    "# 7."
   ]
  },
  {
   "cell_type": "code",
   "execution_count": 168,
   "id": "70b9944a",
   "metadata": {},
   "outputs": [
    {
     "name": "stdout",
     "output_type": "stream",
     "text": [
      "Word lengths written to output.txt\n"
     ]
    }
   ],
   "source": [
    "try:\n",
    "\n",
    "    with open('input.txt', 'r') as input_file, open('output.txt', 'w') as output_file:\n",
    "\n",
    "        word_lengths = {}\n",
    "\n",
    "        for line in input_file:\n",
    "            word = line.strip()\n",
    "            length = len(word) \n",
    "\n",
    "            word_lengths[word] = length\n",
    "\n",
    "        for word, length in word_lengths.items():\n",
    "            output_file.write(f\"{word}: {length}\\n\")\n",
    "\n",
    "    print(\"Word lengths written to output.txt\")\n",
    "\n",
    "except FileNotFoundError:\n",
    "    print(\"Input file not found.\")\n",
    "except Exception as e:\n",
    "    print(\"An error occurred:\", str(e))"
   ]
  },
  {
   "cell_type": "markdown",
   "id": "6d733599",
   "metadata": {},
   "source": [
    "# 8."
   ]
  },
  {
   "cell_type": "code",
   "execution_count": null,
   "id": "d2634ac1",
   "metadata": {},
   "outputs": [],
   "source": [
    "def add_results(num):\n",
    "    d = dict(raw_input().split() for _ in range(n)) \n",
    "    \n",
    "    \n",
    "def show_results(stu_name):\n",
    "    for i in dic:\n",
    "        if i==stu_name:\n",
    "            print\n",
    "\n",
    "    \n",
    "    \n",
    "n = int(input('Enter the no of students'))\n",
    "add_results(n)"
   ]
  },
  {
   "cell_type": "code",
   "execution_count": null,
   "id": "544f5583",
   "metadata": {},
   "outputs": [],
   "source": [
    "name= input('Enter the name of student')\n",
    "show_result(name)"
   ]
  }
 ],
 "metadata": {
  "kernelspec": {
   "display_name": "Python 3 (ipykernel)",
   "language": "python",
   "name": "python3"
  },
  "language_info": {
   "codemirror_mode": {
    "name": "ipython",
    "version": 3
   },
   "file_extension": ".py",
   "mimetype": "text/x-python",
   "name": "python",
   "nbconvert_exporter": "python",
   "pygments_lexer": "ipython3",
   "version": "3.11.4"
  }
 },
 "nbformat": 4,
 "nbformat_minor": 5
}
