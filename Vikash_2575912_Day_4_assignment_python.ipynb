{
 "cells": [
  {
   "cell_type": "markdown",
   "id": "854532c8",
   "metadata": {},
   "source": [
    "# 1."
   ]
  },
  {
   "cell_type": "code",
   "execution_count": 19,
   "id": "5255226d",
   "metadata": {},
   "outputs": [
    {
     "name": "stdout",
     "output_type": "stream",
     "text": [
      "Enter the marks in physics : 78\n",
      "Enter the marks in physics : 65\n",
      "Enter the marks in physics : 90\n",
      "Enter the marks in physics : 84\n",
      "Enter the marks in physics : 33\n",
      "70.0\n",
      "Grade C\n"
     ]
    }
   ],
   "source": [
    "def per_grade(phy,chem,math,bio,comp):\n",
    "    try:\n",
    "        total = (phy+chem+math+bio+comp)\n",
    "        Percentage = (total/500)*100\n",
    "        print(Percentage)\n",
    "\n",
    "        if Percentage >= 90: \n",
    "            print('Grade A')\n",
    "\n",
    "        elif Percentage >= 80: \n",
    "            print('Grade B')\n",
    "\n",
    "        elif Percentage >= 70: \n",
    "            print('Grade C')\n",
    "\n",
    "        elif Percentage >= 60: \n",
    "            print('Grade D')\n",
    "\n",
    "        elif Percentage >= 40: \n",
    "            print('Grade E')\n",
    "\n",
    "        elif Percentage<=39:\n",
    "            print('Grade F')\n",
    "            \n",
    "    except Exception in e:\n",
    "        print(e)\n",
    "            \n",
    "    \n",
    "        \n",
    "        \n",
    "Physics= int(input('Enter the marks in physics : ' ))\n",
    "Chemestry= int(input('Enter the marks in physics : '))\n",
    "Mathamatics= int(input('Enter the marks in physics : '))\n",
    "Biology= int(input('Enter the marks in physics : '))\n",
    "Computer= int(input('Enter the marks in physics : '))\n",
    "\n",
    "per_grade(Physics,Chemestry,Mathamatics,Biology,Computer)"
   ]
  },
  {
   "cell_type": "markdown",
   "id": "0ac53c40",
   "metadata": {},
   "source": [
    "# 2."
   ]
  },
  {
   "cell_type": "code",
   "execution_count": 1,
   "id": "afe02dc8",
   "metadata": {},
   "outputs": [
    {
     "name": "stdout",
     "output_type": "stream",
     "text": [
      "Enter the electricity unit charges: 255\n",
      "Total Electricity Bill: Rs. 273.00\n"
     ]
    }
   ],
   "source": [
    "try:\n",
    "    units = float(input(\"Enter the electricity unit charges: \"))\n",
    "\n",
    "    slab1_rate = 0.50\n",
    "    slab2_rate = 0.75\n",
    "    slab3_rate = 1.20\n",
    "    slab4_rate = 1.50\n",
    "\n",
    "    total_bill = 0\n",
    "    surcharge = 0\n",
    "\n",
    "    if units <= 50:\n",
    "        total_bill = units * slab1_rate\n",
    "    elif units <= 150:\n",
    "        total_bill = 50 * slab1_rate + (units - 50) * slab2_rate\n",
    "    elif units <= 250:\n",
    "        total_bill = 50 * slab1_rate + 100 * slab2_rate + (units - 150) * slab3_rate\n",
    "    else:\n",
    "        total_bill = 50 * slab1_rate + 100 * slab2_rate + 100 * slab3_rate + (units - 250) * slab4_rate\n",
    "\n",
    "    surcharge = 0.20 * total_bill\n",
    "\n",
    "    total_bill += surcharge\n",
    "\n",
    "    print(f\"Total Electricity Bill: Rs. {total_bill:.2f}\")\n",
    "\n",
    "except ValueError:\n",
    "    print(\"Invalid input. Please enter a valid number of units.\")\n"
   ]
  },
  {
   "cell_type": "markdown",
   "id": "9c905ab9",
   "metadata": {},
   "source": [
    "# 3."
   ]
  },
  {
   "cell_type": "code",
   "execution_count": 2,
   "id": "db36a082",
   "metadata": {},
   "outputs": [
    {
     "name": "stdout",
     "output_type": "stream",
     "text": [
      "Enter the week number: 34\n",
      "Week 34 corresponds to Sunday.\n"
     ]
    }
   ],
   "source": [
    "import datetime\n",
    "\n",
    "try:\n",
    "    week_number = int(input(\"Enter the week number: \"))\n",
    "\n",
    "    if 1 <= week_number <= 53:\n",
    "\n",
    "        date = datetime.date(2023, 1, 1) + datetime.timedelta(weeks=week_number - 1)\n",
    "\n",
    "        weekday = date.strftime(\"%A\")\n",
    "\n",
    "        print(f\"Week {week_number} corresponds to {weekday}.\")\n",
    "    else:\n",
    "        print(\"Invalid week number. Please enter a number between 1 and 53.\")\n",
    "except ValueError:\n",
    "    print(\"Invalid input. Please enter a valid week number as an integer.\")"
   ]
  },
  {
   "cell_type": "markdown",
   "id": "4441922b",
   "metadata": {},
   "source": [
    "# 4."
   ]
  },
  {
   "cell_type": "code",
   "execution_count": null,
   "id": "22e7f7bd",
   "metadata": {},
   "outputs": [],
   "source": [
    "import sys\n",
    "\n",
    "if len(sys.argv) != 2:\n",
    "    sys.exit('Error: Please provide exactly one filename as an argument')\n",
    "\n",
    "filename = sys.argv[1]\n",
    "\n",
    "try:\n",
    "    with open(filename, 'r') as file:\n",
    "        content = file.read()\n",
    "        words = content.split()\n",
    "        word_count = len(words)\n",
    "        print(f\"Word count in '{filename}': {word_count}\")\n",
    "except FileNotFoundError:\n",
    "    print(f\"Error: File '{filename}' not found\")\n",
    "except Exception as e:\n",
    "    print(f\"An error occurred: {str(e)}\")"
   ]
  },
  {
   "cell_type": "markdown",
   "id": "e74e5b8c",
   "metadata": {},
   "source": [
    "# 5."
   ]
  },
  {
   "cell_type": "code",
   "execution_count": 3,
   "id": "db9b6bac",
   "metadata": {},
   "outputs": [
    {
     "name": "stdout",
     "output_type": "stream",
     "text": [
      "The specified file was not found.\n"
     ]
    }
   ],
   "source": [
    "\n",
    "word_frequency = {}\n",
    "\n",
    "try:\n",
    "\n",
    "    with open('your_text_file.txt', 'r') as file:\n",
    "\n",
    "        for line in file:\n",
    "\n",
    "            words = line.lower().split()\n",
    "\n",
    "            for word in words:\n",
    "\n",
    "                word = word.strip('.,!?()[]{}\":;')\n",
    "\n",
    "                if word in word_frequency:\n",
    "                    word_frequency[word] += 1\n",
    "                else:\n",
    "                    word_frequency[word] = 1\n",
    "\n",
    "    sorted_word_frequency = sorted(word_frequency.items(), key=lambda x: x[1], reverse=True)\n",
    "\n",
    "    num_words_to_display = 10  \n",
    "    print(f\"Top {num_words_to_display} most frequent words in the file:\")\n",
    "    \n",
    "    for word, frequency in sorted_word_frequency[:num_words_to_display]:\n",
    "        print(f\"{word}: {frequency} times\")\n",
    "\n",
    "except FileNotFoundError:\n",
    "    print(\"The specified file was not found.\")\n",
    "except Exception as e:\n",
    "    print(f\"An error occurred: {str(e)}\")"
   ]
  },
  {
   "cell_type": "markdown",
   "id": "456245bd",
   "metadata": {},
   "source": [
    "# 6."
   ]
  },
  {
   "cell_type": "code",
   "execution_count": null,
   "id": "25b64753",
   "metadata": {},
   "outputs": [],
   "source": [
    "import sys\n",
    "\n",
    "def process_files(input_file_path, output_file_path):\n",
    "    try:\n",
    "        if not input_file_path or not output_file_path:\n",
    "            raise ValueError(\"Both input and output file paths must be provided.\")\n",
    "\n",
    "        with open(input_file_path, 'r') as input_file:\n",
    "            data = input_file.read()\n",
    "\n",
    "        processed_data = data.upper()\n",
    "\n",
    "        with open(output_file_path, 'w') as output_file:\n",
    "            output_file.write(processed_data)\n",
    "\n",
    "        print(\"File processing completed successfully.\")\n",
    "\n",
    "    except FileNotFoundError:\n",
    "        print(\"Error: Input file not found.\")\n",
    "        sys.exit(1)\n",
    "    except IOError as e:\n",
    "        print(f\"Error: {e}\")\n",
    "        sys.exit(1)\n",
    "    except Exception as e:\n",
    "        print(f\"An error occurred: {str(e)}\")\n",
    "        sys.exit(1)\n",
    "\n",
    "if _name_ == \"_main_\":\n",
    "    if len(sys.argv) != 3:#for atleast ant atmost 2 file\n",
    "        print(\"Usage: python script.py <input_file_path> <output_file_path>\")\n",
    "        sys.exit(1)\n",
    "\n",
    "    input_file_path = sys.argv[1]\n",
    "    output_file_path = sys.argv[2]\n",
    "\n",
    "    process_files(input_file_path, output_file_path)"
   ]
  }
 ],
 "metadata": {
  "kernelspec": {
   "display_name": "Python 3 (ipykernel)",
   "language": "python",
   "name": "python3"
  },
  "language_info": {
   "codemirror_mode": {
    "name": "ipython",
    "version": 3
   },
   "file_extension": ".py",
   "mimetype": "text/x-python",
   "name": "python",
   "nbconvert_exporter": "python",
   "pygments_lexer": "ipython3",
   "version": "3.11.4"
  }
 },
 "nbformat": 4,
 "nbformat_minor": 5
}
