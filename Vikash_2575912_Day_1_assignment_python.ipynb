{
 "cells": [
  {
   "cell_type": "markdown",
   "id": "d2262893",
   "metadata": {},
   "source": [
    "# 1."
   ]
  },
  {
   "cell_type": "code",
   "execution_count": 1,
   "id": "0404d691",
   "metadata": {},
   "outputs": [],
   "source": [
    "#Creating a list \n",
    "lst = ['Vikash' , 'Kumar' ,'23' ,'Mphasis']"
   ]
  },
  {
   "cell_type": "code",
   "execution_count": 2,
   "id": "d5ec0876",
   "metadata": {
    "scrolled": true
   },
   "outputs": [
    {
     "data": {
      "text/plain": [
       "['Vikash', 'Kumar', '23', 'Mphasis']"
      ]
     },
     "execution_count": 2,
     "metadata": {},
     "output_type": "execute_result"
    }
   ],
   "source": [
    "lst"
   ]
  },
  {
   "cell_type": "code",
   "execution_count": 5,
   "id": "b60f6dda",
   "metadata": {},
   "outputs": [
    {
     "data": {
      "text/plain": [
       "['Vikash', 'Kumar', '23', 'Mphasis', '2575912', '2575912']"
      ]
     },
     "execution_count": 5,
     "metadata": {},
     "output_type": "execute_result"
    }
   ],
   "source": [
    "# (i) add new element to the end of the list\n",
    "lst.append('2575912')\n",
    "lst"
   ]
  },
  {
   "cell_type": "code",
   "execution_count": 8,
   "id": "5ab36b19",
   "metadata": {},
   "outputs": [],
   "source": [
    "#(ii) to reverse elements in the list\n",
    "lst.reverse()"
   ]
  },
  {
   "cell_type": "code",
   "execution_count": 9,
   "id": "5267145f",
   "metadata": {},
   "outputs": [
    {
     "data": {
      "text/plain": [
       "['2575912', '2575912', 'Mphasis', '23', 'Kumar', 'Vikash']"
      ]
     },
     "execution_count": 9,
     "metadata": {},
     "output_type": "execute_result"
    }
   ],
   "source": [
    "lst"
   ]
  },
  {
   "cell_type": "code",
   "execution_count": 10,
   "id": "412811d1",
   "metadata": {},
   "outputs": [
    {
     "data": {
      "text/plain": [
       "['2575912',\n",
       " '2575912',\n",
       " 'Mphasis',\n",
       " '23',\n",
       " 'Kumar',\n",
       " 'Vikash',\n",
       " '2575912',\n",
       " '2575912',\n",
       " 'Mphasis',\n",
       " '23',\n",
       " 'Kumar',\n",
       " 'Vikash',\n",
       " '2575912',\n",
       " '2575912',\n",
       " 'Mphasis',\n",
       " '23',\n",
       " 'Kumar',\n",
       " 'Vikash']"
      ]
     },
     "execution_count": 10,
     "metadata": {},
     "output_type": "execute_result"
    }
   ],
   "source": [
    "#(iii) display the same list of elements multiple times\n",
    "lst*3"
   ]
  },
  {
   "cell_type": "code",
   "execution_count": 11,
   "id": "2f1b631e",
   "metadata": {},
   "outputs": [
    {
     "data": {
      "text/plain": [
       "['Pune', 'Online']"
      ]
     },
     "execution_count": 11,
     "metadata": {},
     "output_type": "execute_result"
    }
   ],
   "source": [
    "#(iv) \n",
    "lst1=['Pune', 'Online']\n",
    "lst1"
   ]
  },
  {
   "cell_type": "code",
   "execution_count": 15,
   "id": "4789cc16",
   "metadata": {},
   "outputs": [],
   "source": [
    "lst.extend(lst1)"
   ]
  },
  {
   "cell_type": "code",
   "execution_count": 16,
   "id": "2db5c20d",
   "metadata": {},
   "outputs": [
    {
     "data": {
      "text/plain": [
       "['2575912', '2575912', 'Mphasis', '23', 'Kumar', 'Vikash', 'Pune', 'Online']"
      ]
     },
     "execution_count": 16,
     "metadata": {},
     "output_type": "execute_result"
    }
   ],
   "source": [
    "lst"
   ]
  },
  {
   "cell_type": "code",
   "execution_count": 17,
   "id": "2d08f2eb",
   "metadata": {},
   "outputs": [
    {
     "data": {
      "text/plain": [
       "['23', '2575912', '2575912', 'Kumar', 'Mphasis', 'Online', 'Pune', 'Vikash']"
      ]
     },
     "execution_count": 17,
     "metadata": {},
     "output_type": "execute_result"
    }
   ],
   "source": [
    "#(v) sort the elemens in the list\n",
    "lst.sort()\n",
    "lst"
   ]
  },
  {
   "cell_type": "markdown",
   "id": "beb6924d",
   "metadata": {},
   "source": [
    "# 2."
   ]
  },
  {
   "cell_type": "code",
   "execution_count": 18,
   "id": "64d89924",
   "metadata": {},
   "outputs": [
    {
     "data": {
      "text/plain": [
       "('India', 1, 'America', 2, 'France', 3)"
      ]
     },
     "execution_count": 18,
     "metadata": {},
     "output_type": "execute_result"
    }
   ],
   "source": [
    "# (i) Manupulate using tuples\n",
    "tup1 = ('India' , 1 , 'America' , 2 , 'France' ,3)\n",
    "tup1"
   ]
  },
  {
   "cell_type": "raw",
   "id": "e6675fe6",
   "metadata": {},
   "source": [
    "# (ii) add a new element in the end\n",
    "tuple is immutable"
   ]
  },
  {
   "cell_type": "raw",
   "id": "8543cbe2",
   "metadata": {},
   "source": [
    "#(iii)reverse the element in the tuples\n",
    "tuple is immutable"
   ]
  },
  {
   "cell_type": "code",
   "execution_count": 27,
   "id": "f606bfe0",
   "metadata": {},
   "outputs": [
    {
     "data": {
      "text/plain": [
       "('India',\n",
       " 1,\n",
       " 'America',\n",
       " 2,\n",
       " 'France',\n",
       " 3,\n",
       " 'India',\n",
       " 1,\n",
       " 'America',\n",
       " 2,\n",
       " 'France',\n",
       " 3,\n",
       " 'India',\n",
       " 1,\n",
       " 'America',\n",
       " 2,\n",
       " 'France',\n",
       " 3)"
      ]
     },
     "execution_count": 27,
     "metadata": {},
     "output_type": "execute_result"
    }
   ],
   "source": [
    "#(iv) display the elements multiple times\n",
    "tup1*3"
   ]
  },
  {
   "cell_type": "code",
   "execution_count": 28,
   "id": "b14868c7",
   "metadata": {},
   "outputs": [
    {
     "data": {
      "text/plain": [
       "('India', 1, 'America', 2, 'France', 3, 'New York', 5)"
      ]
     },
     "execution_count": 28,
     "metadata": {},
     "output_type": "execute_result"
    }
   ],
   "source": [
    "#(v) concatination of tuples\n",
    "tup2 = ('New York' , 5)\n",
    "\n",
    "tup = tup1+tup2\n",
    "tup"
   ]
  },
  {
   "cell_type": "raw",
   "id": "5210f0d0",
   "metadata": {},
   "source": [
    "#(vi) sort the elements of tuples\n",
    "tuple is immutable"
   ]
  },
  {
   "cell_type": "markdown",
   "id": "45d90670",
   "metadata": {},
   "source": [
    "# 3."
   ]
  },
  {
   "cell_type": "code",
   "execution_count": 30,
   "id": "c4c8ba74",
   "metadata": {},
   "outputs": [
    {
     "data": {
      "text/plain": [
       "['23', '34', '12', '81', '22', '3', '43', '10', '27', '99']"
      ]
     },
     "execution_count": 30,
     "metadata": {},
     "output_type": "execute_result"
    }
   ],
   "source": [
    "#(i) Create a list of integers\n",
    "lst = ['23' , '34' , '12' ,'81', '22' , '3' , '43' , '10' , '27' ,'99']\n",
    "lst"
   ]
  },
  {
   "cell_type": "code",
   "execution_count": 32,
   "id": "852cd64e",
   "metadata": {},
   "outputs": [
    {
     "data": {
      "text/plain": [
       "'99'"
      ]
     },
     "execution_count": 32,
     "metadata": {},
     "output_type": "execute_result"
    }
   ],
   "source": [
    "#(ii) display the last ele\n",
    "lst[-1]"
   ]
  },
  {
   "cell_type": "code",
   "execution_count": 33,
   "id": "271d014c",
   "metadata": {},
   "outputs": [
    {
     "data": {
      "text/plain": [
       "['23', '34', '12', '81']"
      ]
     },
     "execution_count": 33,
     "metadata": {},
     "output_type": "execute_result"
    }
   ],
   "source": [
    "#(iii) display list[0:4]\n",
    "\n",
    "lst[0:4]"
   ]
  },
  {
   "cell_type": "code",
   "execution_count": 34,
   "id": "e45b63a1",
   "metadata": {},
   "outputs": [
    {
     "data": {
      "text/plain": [
       "['12', '81', '22', '3', '43', '10', '27', '99']"
      ]
     },
     "execution_count": 34,
     "metadata": {},
     "output_type": "execute_result"
    }
   ],
   "source": [
    "#(iv) list value of [2:]\n",
    "lst[2:]"
   ]
  },
  {
   "cell_type": "code",
   "execution_count": 35,
   "id": "3d623ed4",
   "metadata": {},
   "outputs": [
    {
     "data": {
      "text/plain": [
       "['23', '34', '12', '81', '22', '3']"
      ]
     },
     "execution_count": 35,
     "metadata": {},
     "output_type": "execute_result"
    }
   ],
   "source": [
    "#(v) list value of [:6]\n",
    "lst[:6]"
   ]
  },
  {
   "cell_type": "markdown",
   "id": "2862b539",
   "metadata": {},
   "source": [
    "# 4."
   ]
  },
  {
   "cell_type": "code",
   "execution_count": 36,
   "id": "1d103224",
   "metadata": {},
   "outputs": [
    {
     "data": {
      "text/plain": [
       "(10, 50, 20, 40, 30)"
      ]
     },
     "execution_count": 36,
     "metadata": {},
     "output_type": "execute_result"
    }
   ],
   "source": [
    "tuple1 =(10,50, 20,40,30)\n",
    "tuple1"
   ]
  },
  {
   "cell_type": "code",
   "execution_count": 53,
   "id": "aa5e3f47",
   "metadata": {},
   "outputs": [
    {
     "data": {
      "text/plain": [
       "10"
      ]
     },
     "execution_count": 53,
     "metadata": {},
     "output_type": "execute_result"
    }
   ],
   "source": [
    "#(i) print the element between 10 to 50\n",
    "tuple1[0]\n"
   ]
  },
  {
   "cell_type": "code",
   "execution_count": 54,
   "id": "771278e5",
   "metadata": {},
   "outputs": [
    {
     "data": {
      "text/plain": [
       "50"
      ]
     },
     "execution_count": 54,
     "metadata": {},
     "output_type": "execute_result"
    }
   ],
   "source": [
    "tuple1[1]"
   ]
  },
  {
   "cell_type": "code",
   "execution_count": 57,
   "id": "0ae4f8ee",
   "metadata": {},
   "outputs": [
    {
     "data": {
      "text/plain": [
       "5"
      ]
     },
     "execution_count": 57,
     "metadata": {},
     "output_type": "execute_result"
    }
   ],
   "source": [
    "#(ii) display length of the tuple\n",
    "a = len(tuple1)\n",
    "a"
   ]
  },
  {
   "cell_type": "code",
   "execution_count": 59,
   "id": "859c50c3",
   "metadata": {},
   "outputs": [
    {
     "name": "stdout",
     "output_type": "stream",
     "text": [
      "Minimum value is :  10\n",
      "Minimum value index is:  0\n"
     ]
    }
   ],
   "source": [
    "#(iii) find min element from tuple1\n",
    "min_value = tuple1[0]\n",
    "min_val_ind = 0\n",
    "for i in range (len(tuple1)):\n",
    "    if tuple1[i] < min_value:\n",
    "        min_value = t[i]\n",
    "        min_val_ind = i\n",
    "print('Minimum value is : ',min_value)\n",
    "print('Minimum value index is: ',min_val_ind)\n",
    "    "
   ]
  },
  {
   "cell_type": "code",
   "execution_count": 63,
   "id": "40975818",
   "metadata": {},
   "outputs": [
    {
     "name": "stdout",
     "output_type": "stream",
     "text": [
      "Sum of all the elements :  150\n"
     ]
    }
   ],
   "source": [
    "#(iv)add all elements in the tuple1\n",
    "sum = 0\n",
    "for i in range (len(tuple1)):\n",
    "    sum =sum + tuple1[i]\n",
    "print('Sum of all the elements : ',sum)"
   ]
  },
  {
   "cell_type": "markdown",
   "id": "58d44af7",
   "metadata": {},
   "source": [
    "# 5."
   ]
  },
  {
   "cell_type": "code",
   "execution_count": 64,
   "id": "c84f640c",
   "metadata": {},
   "outputs": [
    {
     "data": {
      "text/plain": [
       "'Working at Mphasis'"
      ]
     },
     "execution_count": 64,
     "metadata": {},
     "output_type": "execute_result"
    }
   ],
   "source": [
    "str = 'Working at Mphasis'\n",
    "str"
   ]
  },
  {
   "cell_type": "code",
   "execution_count": 65,
   "id": "ac6ea3dd",
   "metadata": {},
   "outputs": [
    {
     "data": {
      "text/plain": [
       "18"
      ]
     },
     "execution_count": 65,
     "metadata": {},
     "output_type": "execute_result"
    }
   ],
   "source": [
    "#(i) length of the string\n",
    "a = len(str)\n",
    "a"
   ]
  },
  {
   "cell_type": "code",
   "execution_count": 88,
   "id": "4ed62f3d",
   "metadata": {},
   "outputs": [
    {
     "data": {
      "text/plain": [
       "'sisahpM ta gnikroW'"
      ]
     },
     "execution_count": 88,
     "metadata": {},
     "output_type": "execute_result"
    }
   ],
   "source": [
    "#(ii) reverse the word ing a string\n",
    "str[::-1]"
   ]
  },
  {
   "cell_type": "code",
   "execution_count": 89,
   "id": "4915ecd1",
   "metadata": {},
   "outputs": [
    {
     "data": {
      "text/plain": [
       "'Working at MphasisWorking at MphasisWorking at Mphasis'"
      ]
     },
     "execution_count": 89,
     "metadata": {},
     "output_type": "execute_result"
    }
   ],
   "source": [
    "#(iii) same string multiple times\n",
    "str*3"
   ]
  },
  {
   "cell_type": "code",
   "execution_count": 91,
   "id": "469bc8d4",
   "metadata": {},
   "outputs": [
    {
     "data": {
      "text/plain": [
       "'North India'"
      ]
     },
     "execution_count": 91,
     "metadata": {},
     "output_type": "execute_result"
    }
   ],
   "source": [
    "#(iv)concatinate two string\n",
    "str1 = ' North India'\n",
    "str1"
   ]
  },
  {
   "cell_type": "code",
   "execution_count": 93,
   "id": "a0b82208",
   "metadata": {},
   "outputs": [
    {
     "data": {
      "text/plain": [
       "'Working at MphasisNorth India'"
      ]
     },
     "execution_count": 93,
     "metadata": {},
     "output_type": "execute_result"
    }
   ],
   "source": [
    "str2 = str+str1\n",
    "str2"
   ]
  },
  {
   "cell_type": "code",
   "execution_count": 95,
   "id": "29c158c5",
   "metadata": {},
   "outputs": [
    {
     "data": {
      "text/plain": [
       "'India'"
      ]
     },
     "execution_count": 95,
     "metadata": {},
     "output_type": "execute_result"
    }
   ],
   "source": [
    "#(v) print only india in the string\n",
    "str1[6:]"
   ]
  },
  {
   "cell_type": "markdown",
   "id": "971094f1",
   "metadata": {},
   "source": [
    "# 6."
   ]
  },
  {
   "cell_type": "code",
   "execution_count": 96,
   "id": "7403a01e",
   "metadata": {},
   "outputs": [
    {
     "data": {
      "text/plain": [
       "{'f_name': 'Vikash', 'l_name': 'kumar', 'age': '23', 'city': 'kolkata'}"
      ]
     },
     "execution_count": 96,
     "metadata": {},
     "output_type": "execute_result"
    }
   ],
   "source": [
    "#(i) create a dictionary\n",
    "person={'f_name':'Vikash', 'l_name':'kumar', 'age':'23','city':'kolkata'}\n",
    "person"
   ]
  },
  {
   "cell_type": "raw",
   "id": "de5b2c96",
   "metadata": {},
   "source": [
    "#(ii) assign values to the key\n",
    "Values assigned at the time of creation"
   ]
  },
  {
   "cell_type": "code",
   "execution_count": 97,
   "id": "914d708a",
   "metadata": {},
   "outputs": [],
   "source": [
    "#(iii) update the dictionary using a function\n",
    "person.update({'age':'15'})"
   ]
  },
  {
   "cell_type": "code",
   "execution_count": 98,
   "id": "b5ed7b63",
   "metadata": {},
   "outputs": [
    {
     "data": {
      "text/plain": [
       "{'f_name': 'Vikash', 'l_name': 'kumar', 'age': '15', 'city': 'kolkata'}"
      ]
     },
     "execution_count": 98,
     "metadata": {},
     "output_type": "execute_result"
    }
   ],
   "source": [
    "person"
   ]
  },
  {
   "cell_type": "code",
   "execution_count": 99,
   "id": "3d9c6c03",
   "metadata": {},
   "outputs": [
    {
     "data": {
      "text/plain": [
       "{'f_name': 'Vikash', 'l_name': 'kumar', 'age': '15'}"
      ]
     },
     "execution_count": 99,
     "metadata": {},
     "output_type": "execute_result"
    }
   ],
   "source": [
    "person.pop('city')\n",
    "person"
   ]
  },
  {
   "cell_type": "markdown",
   "id": "2c801275",
   "metadata": {},
   "source": [
    "# 7."
   ]
  },
  {
   "cell_type": "code",
   "execution_count": 100,
   "id": "33c5efef",
   "metadata": {},
   "outputs": [
    {
     "data": {
      "text/plain": [
       "['23', '34', '12', '81', '22']"
      ]
     },
     "execution_count": 100,
     "metadata": {},
     "output_type": "execute_result"
    }
   ],
   "source": [
    "list = ['23' , '34' , '12' ,'81', '22']\n",
    "list"
   ]
  },
  {
   "cell_type": "code",
   "execution_count": 103,
   "id": "6c290fe8",
   "metadata": {},
   "outputs": [
    {
     "data": {
      "text/plain": [
       "['23', '34', '44', '44', '12', '81', '22']"
      ]
     },
     "execution_count": 103,
     "metadata": {},
     "output_type": "execute_result"
    }
   ],
   "source": [
    "list.insert(2,'44')\n",
    "list"
   ]
  },
  {
   "cell_type": "markdown",
   "id": "2a332030",
   "metadata": {},
   "source": [
    "# 8."
   ]
  },
  {
   "cell_type": "code",
   "execution_count": 104,
   "id": "2c1c19d8",
   "metadata": {},
   "outputs": [
    {
     "data": {
      "text/plain": [
       "['23', '34', '44', '12', '81', '22']"
      ]
     },
     "execution_count": 104,
     "metadata": {},
     "output_type": "execute_result"
    }
   ],
   "source": [
    "list.pop(2)\n",
    "list"
   ]
  },
  {
   "cell_type": "markdown",
   "id": "820a149e",
   "metadata": {},
   "source": [
    "# 9."
   ]
  },
  {
   "cell_type": "code",
   "execution_count": 105,
   "id": "37921d11",
   "metadata": {},
   "outputs": [
    {
     "name": "stdout",
     "output_type": "stream",
     "text": [
      "1\n",
      "2\n",
      "3\n",
      "4\n",
      "5\n",
      "6\n",
      "7\n",
      "8\n",
      "9\n",
      "10\n",
      "11\n",
      "12\n",
      "13\n",
      "14\n",
      "15\n",
      "16\n",
      "17\n",
      "18\n",
      "19\n",
      "20\n",
      "21\n",
      "22\n",
      "23\n",
      "24\n",
      "25\n",
      "26\n",
      "27\n",
      "28\n",
      "29\n",
      "30\n",
      "31\n",
      "32\n",
      "33\n",
      "34\n",
      "35\n",
      "36\n",
      "37\n",
      "38\n",
      "39\n",
      "40\n",
      "41\n",
      "42\n",
      "43\n",
      "44\n",
      "45\n",
      "46\n",
      "47\n",
      "48\n",
      "49\n",
      "50\n",
      "51\n",
      "52\n",
      "53\n",
      "54\n",
      "55\n",
      "56\n",
      "57\n",
      "58\n",
      "59\n",
      "60\n",
      "61\n",
      "62\n",
      "63\n",
      "64\n",
      "65\n",
      "66\n",
      "67\n",
      "68\n",
      "69\n",
      "70\n",
      "71\n",
      "72\n",
      "73\n",
      "74\n",
      "75\n",
      "76\n",
      "77\n",
      "78\n",
      "79\n",
      "80\n",
      "81\n",
      "82\n",
      "83\n",
      "84\n",
      "85\n",
      "86\n",
      "87\n",
      "88\n",
      "89\n",
      "90\n",
      "91\n",
      "92\n",
      "93\n",
      "94\n",
      "95\n",
      "96\n",
      "97\n",
      "98\n",
      "99\n"
     ]
    }
   ],
   "source": [
    "for i in range (1,100):\n",
    "    print(i)"
   ]
  },
  {
   "cell_type": "markdown",
   "id": "0d3503f6",
   "metadata": {},
   "source": [
    "# 10."
   ]
  },
  {
   "cell_type": "code",
   "execution_count": 106,
   "id": "353e8d80",
   "metadata": {},
   "outputs": [
    {
     "name": "stdout",
     "output_type": "stream",
     "text": [
      "Sum of all the elements :  136\n"
     ]
    }
   ],
   "source": [
    "tuple2 = (40,22,31,43)\n",
    "sum = 0\n",
    "for i in range (len(tuple2)):\n",
    "    sum =sum + tuple2[i]\n",
    "print('Sum of all the elements : ',sum)"
   ]
  },
  {
   "cell_type": "markdown",
   "id": "107d1b5e",
   "metadata": {},
   "source": [
    "# 11."
   ]
  },
  {
   "cell_type": "code",
   "execution_count": 1,
   "id": "c8f000d7",
   "metadata": {},
   "outputs": [
    {
     "name": "stdout",
     "output_type": "stream",
     "text": [
      "1103.1622776601685\n"
     ]
    }
   ],
   "source": [
    "n=10\n",
    "dict = { 'Square': lambda a : a**2, \n",
    "         'Cube': lambda a : a**3, \n",
    "         'Squareroot': lambda a : a**(1/2)\n",
    "         }\n",
    "sum = 0\n",
    "for key in dict.keys():\n",
    "     sum += dict[key](n)\n",
    "        \n",
    "        \n",
    "        \n",
    "print(sum) \n",
    "    "
   ]
  },
  {
   "cell_type": "raw",
   "id": "095cf63f",
   "metadata": {},
   "source": []
  },
  {
   "cell_type": "markdown",
   "id": "7b892fed",
   "metadata": {},
   "source": [
    "# 12."
   ]
  },
  {
   "cell_type": "code",
   "execution_count": 2,
   "id": "879b26c4",
   "metadata": {},
   "outputs": [
    {
     "name": "stdout",
     "output_type": "stream",
     "text": [
      "words with second  uppercase char :  ['hOw', 'ARe']\n"
     ]
    }
   ],
   "source": [
    "    ls=['hello','Dear','hOw','ARe','You']\n",
    "    res=[]\n",
    "    for word in ls:\n",
    "        if(len(word))> 1 and word[1].isupper():\n",
    "            res.append(word)\n",
    "            \n",
    "            \n",
    " \n",
    "\n",
    "\n",
    "    print(\"words with second  uppercase char : \",res)"
   ]
  },
  {
   "cell_type": "markdown",
   "id": "f944552b",
   "metadata": {},
   "source": [
    "# 13."
   ]
  },
  {
   "cell_type": "code",
   "execution_count": null,
   "id": "ca3cf701",
   "metadata": {},
   "outputs": [],
   "source": [
    "WeightonEarth = {'John': 45, 'Shelly': 65, 'Marry': 35}\n",
    "\n",
    "# Constants\n",
    "GMoon = 1.622 \n",
    "GEarth = 9.81 \n",
    "\n",
    "# Use map and lambda to calculate weights on the Moon\n",
    "WeightonMoon = dict(map(lambda item: (item[0], (item[1] * GMoon) / GEarth), WeightonEarth.items()))\n",
    "\n",
    "# Print the results\n",
    "for name, weight_moon in WeightonMoon.items():\n",
    "    print(f\"{name} weighs {weight_moon:.2f} kilograms on the Moon.\")"
   ]
  },
  {
   "cell_type": "markdown",
   "id": "881620f7",
   "metadata": {},
   "source": [
    "# Control Structure"
   ]
  },
  {
   "cell_type": "markdown",
   "id": "9c874b82",
   "metadata": {},
   "source": [
    "# 1.\n"
   ]
  },
  {
   "cell_type": "code",
   "execution_count": 1,
   "id": "8179490f",
   "metadata": {},
   "outputs": [
    {
     "name": "stdout",
     "output_type": "stream",
     "text": [
      "Enter the value of N: 33\n",
      "The first 33 prime numbers are: [2, 3, 5, 7, 11, 13, 17, 19, 23, 29, 31, 37, 41, 43, 47, 53, 59, 61, 67, 71, 73, 79, 83, 89, 97, 101, 103, 107, 109, 113, 127, 131, 137]\n"
     ]
    }
   ],
   "source": [
    "def generate_primes(N):\n",
    "    primes = []\n",
    "    num = 2\n",
    "    while len(primes) < N:\n",
    "        is_prime = True\n",
    "        for i in range(2, int(num**0.5) + 1):\n",
    "            if num % i == 0:\n",
    "                is_prime = False\n",
    "                break\n",
    "        if is_prime:\n",
    "            primes.append(num)\n",
    "        num += 1\n",
    "    return primes\n",
    "\n",
    "N = int(input(\"Enter the value of N: \"))\n",
    "prime_numbers = generate_primes(N)\n",
    "print(f\"The first {N} prime numbers are: {prime_numbers}\")"
   ]
  },
  {
   "cell_type": "markdown",
   "id": "0678ca41",
   "metadata": {},
   "source": [
    "# 2."
   ]
  },
  {
   "cell_type": "code",
   "execution_count": 2,
   "id": "60e9ffc0",
   "metadata": {},
   "outputs": [
    {
     "name": "stdout",
     "output_type": "stream",
     "text": [
      "Enter Basic Salary: 5000\n",
      "Enter HRA: 200\n",
      "Enter TA: 100\n",
      "Enter DA: 20\n",
      "Gross Salary: 5320.0\n",
      "Tax: 532.0\n",
      "Net Salary: 4788.0\n"
     ]
    }
   ],
   "source": [
    "basic_salary = float(input(\"Enter Basic Salary: \"))\n",
    "hra = float(input(\"Enter HRA: \"))\n",
    "ta = float(input(\"Enter TA: \"))\n",
    "da = float(input(\"Enter DA: \"))\n",
    "\n",
    "gross_salary = basic_salary + hra + ta + da\n",
    "tax = 0.10 * gross_salary\n",
    "net_salary = gross_salary - tax\n",
    "\n",
    "print(f\"Gross Salary: {gross_salary}\")\n",
    "print(f\"Tax: {tax}\")\n",
    "print(f\"Net Salary: {net_salary}\")"
   ]
  },
  {
   "cell_type": "markdown",
   "id": "9cc4d242",
   "metadata": {},
   "source": [
    "# 3."
   ]
  },
  {
   "cell_type": "code",
   "execution_count": 3,
   "id": "f795520a",
   "metadata": {},
   "outputs": [
    {
     "name": "stdout",
     "output_type": "stream",
     "text": [
      "Enter a string to search: apple\n",
      "apple found in the list.\n"
     ]
    }
   ],
   "source": [
    "my_list = [\"apple\", \"banana\", \"cherry\", \"date\"]\n",
    "search_string = input(\"Enter a string to search: \")\n",
    "\n",
    "if search_string in my_list:\n",
    "    print(f\"{search_string} found in the list.\")\n",
    "else:\n",
    "    print(f\"{search_string} not found in the list.\")"
   ]
  },
  {
   "cell_type": "markdown",
   "id": "ba33db9c",
   "metadata": {},
   "source": [
    "# 4."
   ]
  },
  {
   "cell_type": "code",
   "execution_count": 4,
   "id": "b7be1b16",
   "metadata": {},
   "outputs": [
    {
     "name": "stdout",
     "output_type": "stream",
     "text": [
      "Enter a string: My Name Is Vikash Kumar\n",
      "Uppercase letters: 5\n",
      "Lowercase letters: 14\n"
     ]
    }
   ],
   "source": [
    "def count_letters(s):\n",
    "    upper_count = 0\n",
    "    lower_count = 0\n",
    "    for char in s:\n",
    "        if char.isupper():\n",
    "            upper_count += 1\n",
    "        elif char.islower():\n",
    "            lower_count += 1\n",
    "    return upper_count, lower_count\n",
    "\n",
    "input_string = input(\"Enter a string: \")\n",
    "upper, lower = count_letters(input_string)\n",
    "print(f\"Uppercase letters: {upper}\")\n",
    "print(f\"Lowercase letters: {lower}\")"
   ]
  },
  {
   "cell_type": "markdown",
   "id": "d88a1433",
   "metadata": {},
   "source": [
    "# 5."
   ]
  },
  {
   "cell_type": "code",
   "execution_count": 5,
   "id": "c25e961f",
   "metadata": {},
   "outputs": [
    {
     "name": "stdout",
     "output_type": "stream",
     "text": [
      "Sum of even numbers: 312\n",
      "Sum of odd numbers: 325\n"
     ]
    }
   ],
   "source": [
    "even_sum = 0\n",
    "odd_sum = 0\n",
    "\n",
    "for num in range(12, 38):\n",
    "    if num % 2 == 0:\n",
    "        even_sum += num\n",
    "    else:\n",
    "        odd_sum += num\n",
    "\n",
    "print(f\"Sum of even numbers: {even_sum}\")\n",
    "print(f\"Sum of odd numbers: {odd_sum}\")\n"
   ]
  },
  {
   "cell_type": "markdown",
   "id": "58a23f51",
   "metadata": {},
   "source": [
    "# 6."
   ]
  },
  {
   "cell_type": "code",
   "execution_count": 6,
   "id": "ab3b6186",
   "metadata": {},
   "outputs": [
    {
     "name": "stdout",
     "output_type": "stream",
     "text": [
      "Enter a number to print its table: 10\n",
      "10 x 1 = 10\n",
      "10 x 2 = 20\n",
      "10 x 3 = 30\n",
      "10 x 4 = 40\n",
      "10 x 5 = 50\n",
      "10 x 6 = 60\n",
      "10 x 7 = 70\n",
      "10 x 8 = 80\n",
      "10 x 9 = 90\n",
      "10 x 10 = 100\n"
     ]
    }
   ],
   "source": [
    "def print_table(number):\n",
    "    for i in range(1, 11):\n",
    "        print(f\"{number} x {i} = {number * i}\")\n",
    "\n",
    "num = int(input(\"Enter a number to print its table: \"))\n",
    "print_table(num)\n"
   ]
  },
  {
   "cell_type": "markdown",
   "id": "74b3031f",
   "metadata": {},
   "source": [
    "# 7."
   ]
  },
  {
   "cell_type": "code",
   "execution_count": 8,
   "id": "d06153da",
   "metadata": {},
   "outputs": [
    {
     "name": "stdout",
     "output_type": "stream",
     "text": [
      "Sum of the first 10 prime numbers is: 129\n"
     ]
    }
   ],
   "source": [
    " def is_prime(num):\n",
    "    if num <= 1:\n",
    "        return False\n",
    "    for i in range(2, int(num**0.5) + 1):\n",
    "        if num % i == 0:\n",
    "            return False\n",
    "    return True\n",
    "\n",
    "count = 0\n",
    "num = 2\n",
    "sum_of_primes = 0\n",
    "\n",
    "while count < 10:\n",
    "    if is_prime(num):\n",
    "        sum_of_primes += num\n",
    "        count += 1\n",
    "    num += 1\n",
    "\n",
    "print(f\"Sum of the first 10 prime numbers is: {sum_of_primes}\")\n"
   ]
  },
  {
   "cell_type": "markdown",
   "id": "44650f94",
   "metadata": {},
   "source": [
    "# 8."
   ]
  },
  {
   "cell_type": "code",
   "execution_count": 9,
   "id": "c27d80e2",
   "metadata": {},
   "outputs": [
    {
     "name": "stdout",
     "output_type": "stream",
     "text": [
      "Enter the first number: 33\n",
      "Enter the second number: 56\n",
      "Enter the operator (+, -, *, /): -\n",
      "Result: -23.0\n"
     ]
    }
   ],
   "source": [
    "def arithmetic_operations(a, b, operator):\n",
    "    if operator == \"+\":\n",
    "        result = a + b\n",
    "    elif operator == \"-\":\n",
    "        result = a - b\n",
    "    elif operator == \"*\":\n",
    "        result = a * b\n",
    "    elif operator == \"/\":\n",
    "        if b != 0:\n",
    "            result = a / b\n",
    "        else:\n",
    "            result = \"Division by zero is not allowed.\"\n",
    "    else:\n",
    "        result = \"Invalid operator\"\n",
    "    \n",
    "    return result\n",
    "\n",
    "a = float(input(\"Enter the first number: \"))\n",
    "b = float(input(\"Enter the second number: \"))\n",
    "op = input(\"Enter the operator (+, -, *, /): \")\n",
    "\n",
    "result = arithmetic_operations(a, b, op)\n",
    "print(f\"Result: {result}\")\n"
   ]
  },
  {
   "cell_type": "markdown",
   "id": "ca239e76",
   "metadata": {},
   "source": [
    "# 9."
   ]
  },
  {
   "cell_type": "code",
   "execution_count": 10,
   "id": "2a58963a",
   "metadata": {},
   "outputs": [
    {
     "name": "stdout",
     "output_type": "stream",
     "text": [
      "Enter temperature in Celsius: 100\n",
      "100.0 degrees Celsius is equal to 212.0 degrees Fahrenheit\n"
     ]
    }
   ],
   "source": [
    "def celsius_to_fahrenheit(celsius):\n",
    "    fahrenheit = (celsius * 9/5) + 32\n",
    "    return fahrenheit\n",
    "\n",
    "celsius = float(input(\"Enter temperature in Celsius: \"))\n",
    "fahrenheit = celsius_to_fahrenheit(celsius)\n",
    "print(f\"{celsius} degrees Celsius is equal to {fahrenheit} degrees Fahrenheit\")\n"
   ]
  },
  {
   "cell_type": "markdown",
   "id": "6740cd41",
   "metadata": {},
   "source": [
    "# 10."
   ]
  },
  {
   "cell_type": "code",
   "execution_count": 11,
   "id": "f9a8586b",
   "metadata": {},
   "outputs": [
    {
     "name": "stdout",
     "output_type": "stream",
     "text": [
      "Maximum number: 20\n",
      "Minimum number: 3\n"
     ]
    }
   ],
   "source": [
    "def find_max_min(numbers):\n",
    "    if not numbers:\n",
    "        return None, None\n",
    "\n",
    "    max_num = numbers[0]\n",
    "    min_num = numbers[0]\n",
    "\n",
    "    for num in numbers:\n",
    "        if num > max_num:\n",
    "            max_num = num\n",
    "        elif num < min_num:\n",
    "            min_num = num\n",
    "\n",
    "    return max_num, min_num\n",
    "\n",
    "my_list = [10, 5, 8, 20, 3, 15]\n",
    "max_num, min_num = find_max_min(my_list)\n",
    "print(f\"Maximum number: {max_num}\")\n",
    "print(f\"Minimum number: {min_num}\")\n"
   ]
  },
  {
   "cell_type": "markdown",
   "id": "5e52ea9e",
   "metadata": {},
   "source": [
    "# 11."
   ]
  },
  {
   "cell_type": "code",
   "execution_count": 12,
   "id": "d7135027",
   "metadata": {},
   "outputs": [
    {
     "name": "stdout",
     "output_type": "stream",
     "text": [
      "Number of seconds in a 30-day month: 2592000\n"
     ]
    }
   ],
   "source": [
    "days_in_month = 30\n",
    "hours_in_day = 24\n",
    "minutes_in_hour = 60\n",
    "seconds_in_minute = 60\n",
    "\n",
    "seconds_in_month = days_in_month * hours_in_day * minutes_in_hour * seconds_in_minute\n",
    "print(f\"Number of seconds in a 30-day month: {seconds_in_month}\")\n"
   ]
  },
  {
   "cell_type": "markdown",
   "id": "a2f26cad",
   "metadata": {},
   "source": [
    "# 12."
   ]
  },
  {
   "cell_type": "code",
   "execution_count": 13,
   "id": "917302fb",
   "metadata": {},
   "outputs": [
    {
     "name": "stdout",
     "output_type": "stream",
     "text": [
      "Number of seconds in a year: 31536000\n"
     ]
    }
   ],
   "source": [
    "days_in_year = 365\n",
    "seconds_in_year = days_in_year * hours_in_day * minutes_in_hour * seconds_in_minute\n",
    "print(f\"Number of seconds in a year: {seconds_in_year}\")\n"
   ]
  },
  {
   "cell_type": "markdown",
   "id": "38a9681f",
   "metadata": {},
   "source": [
    "# 13."
   ]
  },
  {
   "cell_type": "code",
   "execution_count": 14,
   "id": "65fd090a",
   "metadata": {},
   "outputs": [
    {
     "name": "stdout",
     "output_type": "stream",
     "text": [
      "It will take 2.76 hours or 165.60 minutes to travel from London to Glasgow.\n"
     ]
    }
   ],
   "source": [
    "average_speed_mph = 150\n",
    "distance_miles = 414\n",
    "\n",
    "time_hours = distance_miles / average_speed_mph\n",
    "time_minutes = time_hours * 60\n",
    "\n",
    "print(f\"It will take {time_hours:.2f} hours or {time_minutes:.2f} minutes to travel from London to Glasgow.\")\n"
   ]
  },
  {
   "cell_type": "markdown",
   "id": "8c6ee68c",
   "metadata": {},
   "source": [
    "# 14."
   ]
  },
  {
   "cell_type": "code",
   "execution_count": 15,
   "id": "281c3d8d",
   "metadata": {},
   "outputs": [
    {
     "name": "stdout",
     "output_type": "stream",
     "text": [
      "Total hours spent in school from year 7 to year 11: 8640 hours\n"
     ]
    }
   ],
   "source": [
    "days_in_each_school_year = 192\n",
    "\n",
    "total_hours = 0\n",
    "for year in range(7, 12):\n",
    "    total_hours += year * days_in_each_school_year\n",
    "\n",
    "print(f\"Total hours spent in school from year 7 to year 11: {total_hours} hours\")\n"
   ]
  },
  {
   "cell_type": "markdown",
   "id": "b7cdcac5",
   "metadata": {},
   "source": [
    "# 15."
   ]
  },
  {
   "cell_type": "code",
   "execution_count": 16,
   "id": "1a8b2028",
   "metadata": {},
   "outputs": [
    {
     "name": "stdout",
     "output_type": "stream",
     "text": [
      "Enter Ram's age: 33\n",
      "Enter Sam's age: 43\n",
      "Enter Khan's age: 22\n",
      "The eldest person is Sam and the youngest person is Khan.\n"
     ]
    }
   ],
   "source": [
    "ram_age = int(input(\"Enter Ram's age: \"))\n",
    "sam_age = int(input(\"Enter Sam's age: \"))\n",
    "khan_age = int(input(\"Enter Khan's age: \"))\n",
    "\n",
    "if ram_age >= sam_age and ram_age >= khan_age:\n",
    "    eldest = \"Ram\"\n",
    "elif sam_age >= ram_age and sam_age >= khan_age:\n",
    "    eldest = \"Sam\"\n",
    "else:\n",
    "    eldest = \"Khan\"\n",
    "\n",
    "if ram_age <= sam_age and ram_age <= khan_age:\n",
    "    youngest = \"Ram\"\n",
    "elif sam_age <= ram_age and sam_age <= khan_age:\n",
    "    youngest = \"Sam\"\n",
    "else:\n",
    "    youngest = \"Khan\"\n",
    "\n",
    "print(f\"The eldest person is {eldest} and the youngest person is {youngest}.\")\n"
   ]
  },
  {
   "cell_type": "markdown",
   "id": "8005ea88",
   "metadata": {},
   "source": [
    "# 16."
   ]
  },
  {
   "cell_type": "code",
   "execution_count": 18,
   "id": "bcc16e2f",
   "metadata": {},
   "outputs": [],
   "source": [
    "#not tought till now"
   ]
  },
  {
   "cell_type": "markdown",
   "id": "2f290274",
   "metadata": {},
   "source": [
    "# Patterns"
   ]
  },
  {
   "cell_type": "markdown",
   "id": "fe3557c5",
   "metadata": {},
   "source": [
    "# 1."
   ]
  },
  {
   "cell_type": "code",
   "execution_count": 3,
   "id": "319edcc1",
   "metadata": {},
   "outputs": [
    {
     "name": "stdout",
     "output_type": "stream",
     "text": [
      "      "
     ]
    },
    {
     "ename": "NameError",
     "evalue": "name 'factorial' is not defined",
     "output_type": "error",
     "traceback": [
      "\u001b[1;31m---------------------------------------------------------------------------\u001b[0m",
      "\u001b[1;31mNameError\u001b[0m                                 Traceback (most recent call last)",
      "Cell \u001b[1;32mIn[3], line 13\u001b[0m\n\u001b[0;32m      9\u001b[0m             \u001b[38;5;28mprint\u001b[39m(factorial(i)\u001b[38;5;241m/\u001b[39m\u001b[38;5;241m/\u001b[39m(factorial(j)\u001b[38;5;241m*\u001b[39mfactorial(i\u001b[38;5;241m-\u001b[39mj)), end\u001b[38;5;241m=\u001b[39m\u001b[38;5;124m\"\u001b[39m\u001b[38;5;124m \u001b[39m\u001b[38;5;124m\"\u001b[39m)\n\u001b[0;32m     11\u001b[0m     \u001b[38;5;28mprint\u001b[39m(\u001b[38;5;124m\"\u001b[39m\u001b[38;5;130;01m\\n\u001b[39;00m\u001b[38;5;124m\"\u001b[39m)\n\u001b[1;32m---> 13\u001b[0m pascal_tri(\u001b[38;5;241m5\u001b[39m)\n",
      "Cell \u001b[1;32mIn[3], line 9\u001b[0m, in \u001b[0;36mpascal_tri\u001b[1;34m(numRows)\u001b[0m\n\u001b[0;32m      5\u001b[0m         \u001b[38;5;28mprint\u001b[39m(end\u001b[38;5;241m=\u001b[39m\u001b[38;5;124m\"\u001b[39m\u001b[38;5;124m \u001b[39m\u001b[38;5;124m\"\u001b[39m)\n\u001b[0;32m      8\u001b[0m     \u001b[38;5;28;01mfor\u001b[39;00m j \u001b[38;5;129;01min\u001b[39;00m \u001b[38;5;28mrange\u001b[39m(i\u001b[38;5;241m+\u001b[39m\u001b[38;5;241m1\u001b[39m):\n\u001b[1;32m----> 9\u001b[0m         \u001b[38;5;28mprint\u001b[39m(factorial(i)\u001b[38;5;241m/\u001b[39m\u001b[38;5;241m/\u001b[39m(factorial(j)\u001b[38;5;241m*\u001b[39mfactorial(i\u001b[38;5;241m-\u001b[39mj)), end\u001b[38;5;241m=\u001b[39m\u001b[38;5;124m\"\u001b[39m\u001b[38;5;124m \u001b[39m\u001b[38;5;124m\"\u001b[39m)\n\u001b[0;32m     11\u001b[0m \u001b[38;5;28mprint\u001b[39m(\u001b[38;5;124m\"\u001b[39m\u001b[38;5;130;01m\\n\u001b[39;00m\u001b[38;5;124m\"\u001b[39m)\n",
      "\u001b[1;31mNameError\u001b[0m: name 'factorial' is not defined"
     ]
    }
   ],
   "source": [
    "def pascal_tri(numRows):\n",
    "    for i in range(numRows):\n",
    "    \n",
    "        for j in range(numRows-i+1):\n",
    "            print(end=\" \")\n",
    "    \n",
    "    \n",
    "        for j in range(i+1):\n",
    "            print(factorial(i)//(factorial(j)*factorial(i-j)), end=\" \")\n",
    "    \n",
    "    print(\"\\n\")\n",
    "\n",
    "pascal_tri(5)"
   ]
  },
  {
   "cell_type": "markdown",
   "id": "92836f1f",
   "metadata": {},
   "source": [
    "# 2."
   ]
  },
  {
   "cell_type": "code",
   "execution_count": 29,
   "id": "0381514c",
   "metadata": {},
   "outputs": [
    {
     "name": "stdout",
     "output_type": "stream",
     "text": [
      "Enter the number of rows: 5\n",
      "* \n",
      "* * \n",
      "* * * \n",
      "* * * * \n",
      "* * * * * \n"
     ]
    }
   ],
   "source": [
    "n = int(input(\"Enter the number of rows: \"))\n",
    "\n",
    "for i in range(1, n + 1):\n",
    "    for j in range(i):\n",
    "        print(\"*\", end=\" \")\n",
    "    print()"
   ]
  },
  {
   "cell_type": "markdown",
   "id": "1ac9576f",
   "metadata": {},
   "source": [
    "# 3."
   ]
  },
  {
   "cell_type": "code",
   "execution_count": 30,
   "id": "57a33183",
   "metadata": {},
   "outputs": [
    {
     "name": "stdout",
     "output_type": "stream",
     "text": [
      "Enter the number of rows : 6\n",
      "          * \n",
      "        * * * \n",
      "      * * * * * \n",
      "    * * * * * * * \n",
      "  * * * * * * * * * \n",
      "* * * * * * * * * * * \n"
     ]
    }
   ],
   "source": [
    "n = int(input(\"Enter the number of rows : \"))\n",
    "\n",
    "for i in range(1, n + 1):\n",
    "    \n",
    "    for j in range(n - i):\n",
    "        print(\" \", end=\" \")\n",
    "    \n",
    "    for j in range(2 * i - 1):\n",
    "        print(\"*\", end=\" \")\n",
    "\n",
    "    print()"
   ]
  },
  {
   "cell_type": "markdown",
   "id": "e5847b41",
   "metadata": {},
   "source": [
    "# 4."
   ]
  },
  {
   "cell_type": "code",
   "execution_count": 28,
   "id": "eefdd76b",
   "metadata": {},
   "outputs": [
    {
     "name": "stdout",
     "output_type": "stream",
     "text": [
      "P\n",
      "Py\n",
      "Pyt\n",
      "Pyth\n",
      "Pytho\n",
      "Python\n"
     ]
    }
   ],
   "source": [
    "text = \"Python\"\n",
    "\n",
    "for i in range(1, len(text) + 1):\n",
    "    print(text[:i])"
   ]
  },
  {
   "cell_type": "code",
   "execution_count": null,
   "id": "3aa70027",
   "metadata": {},
   "outputs": [],
   "source": []
  }
 ],
 "metadata": {
  "kernelspec": {
   "display_name": "Python 3 (ipykernel)",
   "language": "python",
   "name": "python3"
  },
  "language_info": {
   "codemirror_mode": {
    "name": "ipython",
    "version": 3
   },
   "file_extension": ".py",
   "mimetype": "text/x-python",
   "name": "python",
   "nbconvert_exporter": "python",
   "pygments_lexer": "ipython3",
   "version": "3.11.4"
  }
 },
 "nbformat": 4,
 "nbformat_minor": 5
}
