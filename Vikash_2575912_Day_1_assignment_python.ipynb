{
 "cells": [
  {
   "cell_type": "markdown",
   "id": "7f49b3b9",
   "metadata": {},
   "source": [
    "# 1."
   ]
  },
  {
   "cell_type": "code",
   "execution_count": 1,
   "id": "585a3f20",
   "metadata": {},
   "outputs": [],
   "source": [
    "#Creating a list \n",
    "lst = ['Vikash' , 'Kumar' ,'23' ,'Mphasis']"
   ]
  },
  {
   "cell_type": "code",
   "execution_count": 2,
   "id": "496f892e",
   "metadata": {},
   "outputs": [
    {
     "data": {
      "text/plain": [
       "['Vikash', 'Kumar', '23', 'Mphasis']"
      ]
     },
     "execution_count": 2,
     "metadata": {},
     "output_type": "execute_result"
    }
   ],
   "source": [
    "lst"
   ]
  },
  {
   "cell_type": "code",
   "execution_count": 5,
   "id": "90b8936f",
   "metadata": {},
   "outputs": [
    {
     "data": {
      "text/plain": [
       "['Vikash', 'Kumar', '23', 'Mphasis', '2575912', '2575912']"
      ]
     },
     "execution_count": 5,
     "metadata": {},
     "output_type": "execute_result"
    }
   ],
   "source": [
    "# (i) add new element to the end of the list\n",
    "lst.append('2575912')\n",
    "lst"
   ]
  },
  {
   "cell_type": "code",
   "execution_count": 8,
   "id": "640c035c",
   "metadata": {},
   "outputs": [],
   "source": [
    "#(ii) to reverse elements in the list\n",
    "lst.reverse()"
   ]
  },
  {
   "cell_type": "code",
   "execution_count": 9,
   "id": "639ab549",
   "metadata": {},
   "outputs": [
    {
     "data": {
      "text/plain": [
       "['2575912', '2575912', 'Mphasis', '23', 'Kumar', 'Vikash']"
      ]
     },
     "execution_count": 9,
     "metadata": {},
     "output_type": "execute_result"
    }
   ],
   "source": [
    "lst"
   ]
  },
  {
   "cell_type": "code",
   "execution_count": 10,
   "id": "8e992fb6",
   "metadata": {},
   "outputs": [
    {
     "data": {
      "text/plain": [
       "['2575912',\n",
       " '2575912',\n",
       " 'Mphasis',\n",
       " '23',\n",
       " 'Kumar',\n",
       " 'Vikash',\n",
       " '2575912',\n",
       " '2575912',\n",
       " 'Mphasis',\n",
       " '23',\n",
       " 'Kumar',\n",
       " 'Vikash',\n",
       " '2575912',\n",
       " '2575912',\n",
       " 'Mphasis',\n",
       " '23',\n",
       " 'Kumar',\n",
       " 'Vikash']"
      ]
     },
     "execution_count": 10,
     "metadata": {},
     "output_type": "execute_result"
    }
   ],
   "source": [
    "#(iii) display the same list of elements multiple times\n",
    "lst*3"
   ]
  },
  {
   "cell_type": "code",
   "execution_count": 11,
   "id": "39165eb0",
   "metadata": {},
   "outputs": [
    {
     "data": {
      "text/plain": [
       "['Pune', 'Online']"
      ]
     },
     "execution_count": 11,
     "metadata": {},
     "output_type": "execute_result"
    }
   ],
   "source": [
    "#(iv) \n",
    "lst1=['Pune', 'Online']\n",
    "lst1"
   ]
  },
  {
   "cell_type": "code",
   "execution_count": 15,
   "id": "79f48742",
   "metadata": {},
   "outputs": [],
   "source": [
    "lst.extend(lst1)"
   ]
  },
  {
   "cell_type": "code",
   "execution_count": 16,
   "id": "253a6788",
   "metadata": {},
   "outputs": [
    {
     "data": {
      "text/plain": [
       "['2575912', '2575912', 'Mphasis', '23', 'Kumar', 'Vikash', 'Pune', 'Online']"
      ]
     },
     "execution_count": 16,
     "metadata": {},
     "output_type": "execute_result"
    }
   ],
   "source": [
    "lst"
   ]
  },
  {
   "cell_type": "code",
   "execution_count": 17,
   "id": "ee1dffac",
   "metadata": {},
   "outputs": [
    {
     "data": {
      "text/plain": [
       "['23', '2575912', '2575912', 'Kumar', 'Mphasis', 'Online', 'Pune', 'Vikash']"
      ]
     },
     "execution_count": 17,
     "metadata": {},
     "output_type": "execute_result"
    }
   ],
   "source": [
    "#(v) sort the elemens in the list\n",
    "lst.sort()\n",
    "lst"
   ]
  },
  {
   "cell_type": "markdown",
   "id": "709a4f51",
   "metadata": {},
   "source": [
    "# 2."
   ]
  },
  {
   "cell_type": "code",
   "execution_count": 18,
   "id": "d351eb68",
   "metadata": {},
   "outputs": [
    {
     "data": {
      "text/plain": [
       "('India', 1, 'America', 2, 'France', 3)"
      ]
     },
     "execution_count": 18,
     "metadata": {},
     "output_type": "execute_result"
    }
   ],
   "source": [
    "# (i) Manupulate using tuples\n",
    "tup1 = ('India' , 1 , 'America' , 2 , 'France' ,3)\n",
    "tup1"
   ]
  },
  {
   "cell_type": "raw",
   "id": "ab817555",
   "metadata": {},
   "source": [
    "# (ii) add a new element in the end\n",
    "tuple is immutable"
   ]
  },
  {
   "cell_type": "raw",
   "id": "5eeb0bb4",
   "metadata": {},
   "source": [
    "#(iii)reverse the element in the tuples\n",
    "tuple is immutable"
   ]
  },
  {
   "cell_type": "code",
   "execution_count": 27,
   "id": "4f6820d2",
   "metadata": {},
   "outputs": [
    {
     "data": {
      "text/plain": [
       "('India',\n",
       " 1,\n",
       " 'America',\n",
       " 2,\n",
       " 'France',\n",
       " 3,\n",
       " 'India',\n",
       " 1,\n",
       " 'America',\n",
       " 2,\n",
       " 'France',\n",
       " 3,\n",
       " 'India',\n",
       " 1,\n",
       " 'America',\n",
       " 2,\n",
       " 'France',\n",
       " 3)"
      ]
     },
     "execution_count": 27,
     "metadata": {},
     "output_type": "execute_result"
    }
   ],
   "source": [
    "#(iv) display the elements multiple times\n",
    "tup1*3"
   ]
  },
  {
   "cell_type": "code",
   "execution_count": 28,
   "id": "118ecfa8",
   "metadata": {},
   "outputs": [
    {
     "data": {
      "text/plain": [
       "('India', 1, 'America', 2, 'France', 3, 'New York', 5)"
      ]
     },
     "execution_count": 28,
     "metadata": {},
     "output_type": "execute_result"
    }
   ],
   "source": [
    "#(v) concatination of tuples\n",
    "tup2 = ('New York' , 5)\n",
    "\n",
    "tup = tup1+tup2\n",
    "tup"
   ]
  },
  {
   "cell_type": "raw",
   "id": "8f508224",
   "metadata": {},
   "source": [
    "#(vi) sort the elements of tuples\n",
    "tuple is immutable"
   ]
  },
  {
   "cell_type": "markdown",
   "id": "ce764383",
   "metadata": {},
   "source": [
    "# 3."
   ]
  },
  {
   "cell_type": "code",
   "execution_count": 30,
   "id": "518ce475",
   "metadata": {},
   "outputs": [
    {
     "data": {
      "text/plain": [
       "['23', '34', '12', '81', '22', '3', '43', '10', '27', '99']"
      ]
     },
     "execution_count": 30,
     "metadata": {},
     "output_type": "execute_result"
    }
   ],
   "source": [
    "#(i) Create a list of integers\n",
    "lst = ['23' , '34' , '12' ,'81', '22' , '3' , '43' , '10' , '27' ,'99']\n",
    "lst"
   ]
  },
  {
   "cell_type": "code",
   "execution_count": 32,
   "id": "e6aee703",
   "metadata": {},
   "outputs": [
    {
     "data": {
      "text/plain": [
       "'99'"
      ]
     },
     "execution_count": 32,
     "metadata": {},
     "output_type": "execute_result"
    }
   ],
   "source": [
    "#(ii) display the last ele\n",
    "lst[-1]"
   ]
  },
  {
   "cell_type": "code",
   "execution_count": 33,
   "id": "5273fcd4",
   "metadata": {},
   "outputs": [
    {
     "data": {
      "text/plain": [
       "['23', '34', '12', '81']"
      ]
     },
     "execution_count": 33,
     "metadata": {},
     "output_type": "execute_result"
    }
   ],
   "source": [
    "#(iii) display list[0:4]\n",
    "\n",
    "lst[0:4]"
   ]
  },
  {
   "cell_type": "code",
   "execution_count": 34,
   "id": "38082e1a",
   "metadata": {},
   "outputs": [
    {
     "data": {
      "text/plain": [
       "['12', '81', '22', '3', '43', '10', '27', '99']"
      ]
     },
     "execution_count": 34,
     "metadata": {},
     "output_type": "execute_result"
    }
   ],
   "source": [
    "#(iv) list value of [2:]\n",
    "lst[2:]"
   ]
  },
  {
   "cell_type": "code",
   "execution_count": 35,
   "id": "bc840e15",
   "metadata": {},
   "outputs": [
    {
     "data": {
      "text/plain": [
       "['23', '34', '12', '81', '22', '3']"
      ]
     },
     "execution_count": 35,
     "metadata": {},
     "output_type": "execute_result"
    }
   ],
   "source": [
    "#(v) list value of [:6]\n",
    "lst[:6]"
   ]
  },
  {
   "cell_type": "markdown",
   "id": "3c317658",
   "metadata": {},
   "source": [
    "# 4."
   ]
  },
  {
   "cell_type": "code",
   "execution_count": 36,
   "id": "0fb32379",
   "metadata": {},
   "outputs": [
    {
     "data": {
      "text/plain": [
       "(10, 50, 20, 40, 30)"
      ]
     },
     "execution_count": 36,
     "metadata": {},
     "output_type": "execute_result"
    }
   ],
   "source": [
    "tuple1 =(10,50, 20,40,30)\n",
    "tuple1"
   ]
  },
  {
   "cell_type": "code",
   "execution_count": 53,
   "id": "e119b87b",
   "metadata": {},
   "outputs": [
    {
     "data": {
      "text/plain": [
       "10"
      ]
     },
     "execution_count": 53,
     "metadata": {},
     "output_type": "execute_result"
    }
   ],
   "source": [
    "#(i) print the element between 10 to 50\n",
    "tuple1[0]\n"
   ]
  },
  {
   "cell_type": "code",
   "execution_count": 54,
   "id": "2cac5d88",
   "metadata": {},
   "outputs": [
    {
     "data": {
      "text/plain": [
       "50"
      ]
     },
     "execution_count": 54,
     "metadata": {},
     "output_type": "execute_result"
    }
   ],
   "source": [
    "tuple1[1]"
   ]
  },
  {
   "cell_type": "code",
   "execution_count": 57,
   "id": "1af53a88",
   "metadata": {},
   "outputs": [
    {
     "data": {
      "text/plain": [
       "5"
      ]
     },
     "execution_count": 57,
     "metadata": {},
     "output_type": "execute_result"
    }
   ],
   "source": [
    "#(ii) display length of the tuple\n",
    "a = len(tuple1)\n",
    "a"
   ]
  },
  {
   "cell_type": "code",
   "execution_count": 59,
   "id": "e4f7e635",
   "metadata": {},
   "outputs": [
    {
     "name": "stdout",
     "output_type": "stream",
     "text": [
      "Minimum value is :  10\n",
      "Minimum value index is:  0\n"
     ]
    }
   ],
   "source": [
    "#(iii) find min element from tuple1\n",
    "min_value = tuple1[0]\n",
    "min_val_ind = 0\n",
    "for i in range (len(tuple1)):\n",
    "    if tuple1[i] < min_value:\n",
    "        min_value = t[i]\n",
    "        min_val_ind = i\n",
    "print('Minimum value is : ',min_value)\n",
    "print('Minimum value index is: ',min_val_ind)\n",
    "    "
   ]
  },
  {
   "cell_type": "code",
   "execution_count": 63,
   "id": "c38d53a3",
   "metadata": {},
   "outputs": [
    {
     "name": "stdout",
     "output_type": "stream",
     "text": [
      "Sum of all the elements :  150\n"
     ]
    }
   ],
   "source": [
    "#(iv)add all elements in the tuple1\n",
    "sum = 0\n",
    "for i in range (len(tuple1)):\n",
    "    sum =sum + tuple1[i]\n",
    "print('Sum of all the elements : ',sum)"
   ]
  },
  {
   "cell_type": "markdown",
   "id": "87a74e71",
   "metadata": {},
   "source": [
    "# 5."
   ]
  },
  {
   "cell_type": "code",
   "execution_count": 64,
   "id": "d4e04e50",
   "metadata": {},
   "outputs": [
    {
     "data": {
      "text/plain": [
       "'Working at Mphasis'"
      ]
     },
     "execution_count": 64,
     "metadata": {},
     "output_type": "execute_result"
    }
   ],
   "source": [
    "str = 'Working at Mphasis'\n",
    "str"
   ]
  },
  {
   "cell_type": "code",
   "execution_count": 65,
   "id": "407b64dd",
   "metadata": {},
   "outputs": [
    {
     "data": {
      "text/plain": [
       "18"
      ]
     },
     "execution_count": 65,
     "metadata": {},
     "output_type": "execute_result"
    }
   ],
   "source": [
    "#(i) length of the string\n",
    "a = len(str)\n",
    "a"
   ]
  },
  {
   "cell_type": "code",
   "execution_count": 88,
   "id": "5d613c5a",
   "metadata": {},
   "outputs": [
    {
     "data": {
      "text/plain": [
       "'sisahpM ta gnikroW'"
      ]
     },
     "execution_count": 88,
     "metadata": {},
     "output_type": "execute_result"
    }
   ],
   "source": [
    "#(ii) reverse the word ing a string\n",
    "str[::-1]"
   ]
  },
  {
   "cell_type": "code",
   "execution_count": 89,
   "id": "04c60061",
   "metadata": {},
   "outputs": [
    {
     "data": {
      "text/plain": [
       "'Working at MphasisWorking at MphasisWorking at Mphasis'"
      ]
     },
     "execution_count": 89,
     "metadata": {},
     "output_type": "execute_result"
    }
   ],
   "source": [
    "#(iii) same string multiple times\n",
    "str*3"
   ]
  },
  {
   "cell_type": "code",
   "execution_count": 91,
   "id": "18c28e7c",
   "metadata": {},
   "outputs": [
    {
     "data": {
      "text/plain": [
       "'North India'"
      ]
     },
     "execution_count": 91,
     "metadata": {},
     "output_type": "execute_result"
    }
   ],
   "source": [
    "#(iv)concatinate two string\n",
    "str1 = ' North India'\n",
    "str1"
   ]
  },
  {
   "cell_type": "code",
   "execution_count": 93,
   "id": "5a3d1e85",
   "metadata": {},
   "outputs": [
    {
     "data": {
      "text/plain": [
       "'Working at MphasisNorth India'"
      ]
     },
     "execution_count": 93,
     "metadata": {},
     "output_type": "execute_result"
    }
   ],
   "source": [
    "str2 = str+str1\n",
    "str2"
   ]
  },
  {
   "cell_type": "code",
   "execution_count": 95,
   "id": "c78ac6fe",
   "metadata": {},
   "outputs": [
    {
     "data": {
      "text/plain": [
       "'India'"
      ]
     },
     "execution_count": 95,
     "metadata": {},
     "output_type": "execute_result"
    }
   ],
   "source": [
    "#(v) print only india in the string\n",
    "str1[6:]"
   ]
  },
  {
   "cell_type": "markdown",
   "id": "e433c6bf",
   "metadata": {},
   "source": [
    "# 6."
   ]
  },
  {
   "cell_type": "code",
   "execution_count": 96,
   "id": "16017d82",
   "metadata": {},
   "outputs": [
    {
     "data": {
      "text/plain": [
       "{'f_name': 'Vikash', 'l_name': 'kumar', 'age': '23', 'city': 'kolkata'}"
      ]
     },
     "execution_count": 96,
     "metadata": {},
     "output_type": "execute_result"
    }
   ],
   "source": [
    "#(i) create a dictionary\n",
    "person={'f_name':'Vikash', 'l_name':'kumar', 'age':'23','city':'kolkata'}\n",
    "person"
   ]
  },
  {
   "cell_type": "raw",
   "id": "29244054",
   "metadata": {},
   "source": [
    "#(ii) assign values to the key\n",
    "Values assigned at the time of creation"
   ]
  },
  {
   "cell_type": "code",
   "execution_count": 97,
   "id": "eafaf1bd",
   "metadata": {},
   "outputs": [],
   "source": [
    "#(iii) update the dictionary using a function\n",
    "person.update({'age':'15'})"
   ]
  },
  {
   "cell_type": "code",
   "execution_count": 98,
   "id": "81ae6b9b",
   "metadata": {},
   "outputs": [
    {
     "data": {
      "text/plain": [
       "{'f_name': 'Vikash', 'l_name': 'kumar', 'age': '15', 'city': 'kolkata'}"
      ]
     },
     "execution_count": 98,
     "metadata": {},
     "output_type": "execute_result"
    }
   ],
   "source": [
    "person"
   ]
  },
  {
   "cell_type": "code",
   "execution_count": 99,
   "id": "2b143c23",
   "metadata": {},
   "outputs": [
    {
     "data": {
      "text/plain": [
       "{'f_name': 'Vikash', 'l_name': 'kumar', 'age': '15'}"
      ]
     },
     "execution_count": 99,
     "metadata": {},
     "output_type": "execute_result"
    }
   ],
   "source": [
    "person.pop('city')\n",
    "person"
   ]
  },
  {
   "cell_type": "markdown",
   "id": "1e795d18",
   "metadata": {},
   "source": [
    "# 7."
   ]
  },
  {
   "cell_type": "code",
   "execution_count": 100,
   "id": "b4ecafee",
   "metadata": {},
   "outputs": [
    {
     "data": {
      "text/plain": [
       "['23', '34', '12', '81', '22']"
      ]
     },
     "execution_count": 100,
     "metadata": {},
     "output_type": "execute_result"
    }
   ],
   "source": [
    "list = ['23' , '34' , '12' ,'81', '22']\n",
    "list"
   ]
  },
  {
   "cell_type": "code",
   "execution_count": 103,
   "id": "54ea8566",
   "metadata": {},
   "outputs": [
    {
     "data": {
      "text/plain": [
       "['23', '34', '44', '44', '12', '81', '22']"
      ]
     },
     "execution_count": 103,
     "metadata": {},
     "output_type": "execute_result"
    }
   ],
   "source": [
    "list.insert(2,'44')\n",
    "list"
   ]
  },
  {
   "cell_type": "markdown",
   "id": "734825d6",
   "metadata": {},
   "source": [
    "# 8."
   ]
  },
  {
   "cell_type": "code",
   "execution_count": 104,
   "id": "0415d3e5",
   "metadata": {},
   "outputs": [
    {
     "data": {
      "text/plain": [
       "['23', '34', '44', '12', '81', '22']"
      ]
     },
     "execution_count": 104,
     "metadata": {},
     "output_type": "execute_result"
    }
   ],
   "source": [
    "list.pop(2)\n",
    "list"
   ]
  },
  {
   "cell_type": "markdown",
   "id": "5c2329ce",
   "metadata": {},
   "source": [
    "# 9."
   ]
  },
  {
   "cell_type": "code",
   "execution_count": 105,
   "id": "0be48b0b",
   "metadata": {},
   "outputs": [
    {
     "name": "stdout",
     "output_type": "stream",
     "text": [
      "1\n",
      "2\n",
      "3\n",
      "4\n",
      "5\n",
      "6\n",
      "7\n",
      "8\n",
      "9\n",
      "10\n",
      "11\n",
      "12\n",
      "13\n",
      "14\n",
      "15\n",
      "16\n",
      "17\n",
      "18\n",
      "19\n",
      "20\n",
      "21\n",
      "22\n",
      "23\n",
      "24\n",
      "25\n",
      "26\n",
      "27\n",
      "28\n",
      "29\n",
      "30\n",
      "31\n",
      "32\n",
      "33\n",
      "34\n",
      "35\n",
      "36\n",
      "37\n",
      "38\n",
      "39\n",
      "40\n",
      "41\n",
      "42\n",
      "43\n",
      "44\n",
      "45\n",
      "46\n",
      "47\n",
      "48\n",
      "49\n",
      "50\n",
      "51\n",
      "52\n",
      "53\n",
      "54\n",
      "55\n",
      "56\n",
      "57\n",
      "58\n",
      "59\n",
      "60\n",
      "61\n",
      "62\n",
      "63\n",
      "64\n",
      "65\n",
      "66\n",
      "67\n",
      "68\n",
      "69\n",
      "70\n",
      "71\n",
      "72\n",
      "73\n",
      "74\n",
      "75\n",
      "76\n",
      "77\n",
      "78\n",
      "79\n",
      "80\n",
      "81\n",
      "82\n",
      "83\n",
      "84\n",
      "85\n",
      "86\n",
      "87\n",
      "88\n",
      "89\n",
      "90\n",
      "91\n",
      "92\n",
      "93\n",
      "94\n",
      "95\n",
      "96\n",
      "97\n",
      "98\n",
      "99\n"
     ]
    }
   ],
   "source": [
    "for i in range (1,100):\n",
    "    print(i)"
   ]
  },
  {
   "cell_type": "markdown",
   "id": "86e5c18b",
   "metadata": {},
   "source": [
    "# 10."
   ]
  },
  {
   "cell_type": "code",
   "execution_count": 106,
   "id": "3c8afc77",
   "metadata": {},
   "outputs": [
    {
     "name": "stdout",
     "output_type": "stream",
     "text": [
      "Sum of all the elements :  136\n"
     ]
    }
   ],
   "source": [
    "tuple2 = (40,22,31,43)\n",
    "sum = 0\n",
    "for i in range (len(tuple2)):\n",
    "    sum =sum + tuple2[i]\n",
    "print('Sum of all the elements : ',sum)"
   ]
  },
  {
   "cell_type": "markdown",
   "id": "e223f3a6",
   "metadata": {},
   "source": [
    "# 11."
   ]
  },
  {
   "cell_type": "code",
   "execution_count": 107,
   "id": "cae89983",
   "metadata": {},
   "outputs": [
    {
     "data": {
      "text/plain": [
       "{'square': '', 'cube': '', 'squareroot': ''}"
      ]
     },
     "execution_count": 107,
     "metadata": {},
     "output_type": "execute_result"
    }
   ],
   "source": [
    "dic = {'square' : '' , 'cube' : '' , 'squareroot' : ''}\n",
    "dic"
   ]
  },
  {
   "cell_type": "raw",
   "id": "d94ad40b",
   "metadata": {},
   "source": [
    "## function not tought till now"
   ]
  },
  {
   "cell_type": "markdown",
   "id": "efa8934a",
   "metadata": {},
   "source": [
    "# 12."
   ]
  },
  {
   "cell_type": "raw",
   "id": "1249feac",
   "metadata": {},
   "source": [
    "# lamda function not tought"
   ]
  },
  {
   "cell_type": "markdown",
   "id": "b638112f",
   "metadata": {},
   "source": [
    "# 13."
   ]
  },
  {
   "cell_type": "code",
   "execution_count": null,
   "id": "ef6c9e14",
   "metadata": {},
   "outputs": [],
   "source": []
  }
 ],
 "metadata": {
  "kernelspec": {
   "display_name": "Python 3 (ipykernel)",
   "language": "python",
   "name": "python3"
  },
  "language_info": {
   "codemirror_mode": {
    "name": "ipython",
    "version": 3
   },
   "file_extension": ".py",
   "mimetype": "text/x-python",
   "name": "python",
   "nbconvert_exporter": "python",
   "pygments_lexer": "ipython3",
   "version": "3.11.4"
  }
 },
 "nbformat": 4,
 "nbformat_minor": 5
}
